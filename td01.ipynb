{
    "cells": [
        {
            "cell_type": "markdown",
            "metadata": {},
            "source": [
                "#### Universit\u00e9 de Bordeaux,  Master Mention Informatique\n",
                "\n",
                "# Analyse, classification et indexation des donn\u00e9es: feuille 1\n",
                "### Rappels : Probabilit\u00e9s et statistiques, Alg\u00e8bre lin\u00e9aire avec Python"
            ]
        },
        {
            "cell_type": "markdown",
            "metadata": {},
            "source": [
                "### Pr\u00e9sentation\n",
                "\n",
                "L\u2019objectif de ce premier TD est de rassembler des outils et biblioth\u00e8ques <code>Python</code> n\u00e9cessaires pour la suite. Vous travaillerez dans ce fichier td01.ipynb en ajoutant le code \u00e0 \u00e9crire, ainsi que tous les commentaires qui vous permettront d'utiliser efficacement ces outils dans les TD suivants.\n",
                "\n",
                "Le code est \u00e9crit dans une suite de cellules. Pour ajouter une cellule utilisez l'item *Ins\u00e9rer* du menu.  \n",
                "\n",
                "Pour ex\u00e9cuter les instructions d'une cellule, il suffit de placer le curseur dans la cellule souhait\u00e9e et d'ex\u00e9cuter la cellule (en cliquant sur <code>Ex\u00e9cuter</code> ou avec <code>Ctrl + Return</code>). \n",
                "\n",
                "<em>Remarque :</em> le choix a \u00e9t\u00e9 fait de travailler sur des <code>jupyter notebooks</code> mais vous pouvez tout \u00e0 fait utiliser votre IDE pr\u00e9f\u00e9r\u00e9 pour \u00e9crire/ex\u00e9cuter vos instructions et vos programmes <code>Python</code>."
            ]
        },
        {
            "cell_type": "markdown",
            "metadata": {},
            "source": [
                "# 1. Vecteurs et matrices\n",
                "\n",
                "Un \u00e9l\u00e9ment unique, un vecteur ligne ou colonne sont des cas particuliers de matrice (tableau 2D).\n",
                "\n",
                "Une des biblioth\u00e8ques de <code>Python</code> les plus utilis\u00e9es en alg\u00e8bre lin\u00e9aire est la biblioth\u00e8que <code>numpy</code>. On commence par l'importer pour pouvoir l'utiliser pour la suite."
            ]
        },
        {
            "cell_type": "code",
            "execution_count": null,
            "metadata": {},
            "outputs": [],
            "source": [
                "import numpy as np"
            ]
        },
        {
            "cell_type": "markdown",
            "metadata": {},
            "source": [
                "### Exercice 1.\n",
                "\n",
                "Cr\u00e9ation de tableaux, acc\u00e8s \u00e0 un \u00e9l\u00e9ment d'un tableau "
            ]
        },
        {
            "cell_type": "markdown",
            "metadata": {},
            "source": [
                "Cr\u00e9ation d'un vecteur ligne :"
            ]
        },
        {
            "cell_type": "code",
            "execution_count": null,
            "metadata": {},
            "outputs": [],
            "source": [
                "L1 = np.array([10, 20, 30, 40])\n",
                "L1"
            ]
        },
        {
            "cell_type": "markdown",
            "metadata": {},
            "source": [
                "Cr\u00e9ation d'un vecteur colonne :"
            ]
        },
        {
            "cell_type": "code",
            "execution_count": null,
            "metadata": {},
            "outputs": [],
            "source": [
                "C1 = np.array([[10], [20], [30], [40]])\n",
                "C1"
            ]
        },
        {
            "cell_type": "markdown",
            "metadata": {},
            "source": [
                "<b>Question : </b> Comment obtenir <code>C1</code> \u00e0 partir de <code>L1</code> ?"
            ]
        },
        {
            "cell_type": "code",
            "execution_count": null,
            "metadata": {},
            "outputs": [],
            "source": [
                "C2 = L1.reshape((4, 1))\n",
                "C2"
            ]
        },
        {
            "cell_type": "markdown",
            "metadata": {},
            "source": [
                "Acc\u00e8s \u00e0 un \u00e9l\u00e9ment d'un tableau. Les indices commencent \u00e0 <code>0</code>."
            ]
        },
        {
            "cell_type": "code",
            "execution_count": null,
            "metadata": {},
            "outputs": [],
            "source": [
                "L1[2]"
            ]
        },
        {
            "cell_type": "code",
            "execution_count": null,
            "metadata": {},
            "outputs": [],
            "source": [
                "C1[2]"
            ]
        },
        {
            "cell_type": "code",
            "execution_count": null,
            "metadata": {},
            "outputs": [],
            "source": [
                "C1[2][0]"
            ]
        },
        {
            "cell_type": "markdown",
            "metadata": {},
            "source": [
                "Cr\u00e9ation d'une matrice :"
            ]
        },
        {
            "cell_type": "code",
            "execution_count": null,
            "metadata": {},
            "outputs": [],
            "source": [
                "M1 = np.array([[10, 20, 30], [40, 50, 60], [70, 80, 90]])\n",
                "M1"
            ]
        },
        {
            "cell_type": "markdown",
            "metadata": {},
            "source": [
                "La matrice est <code>3 x 3</code> :"
            ]
        },
        {
            "cell_type": "code",
            "execution_count": null,
            "metadata": {},
            "outputs": [],
            "source": [
                "M1.shape"
            ]
        },
        {
            "cell_type": "markdown",
            "metadata": {},
            "source": [
                "Taille d'une matrice, d'un vecteur, d'un tableau :"
            ]
        },
        {
            "cell_type": "code",
            "execution_count": null,
            "metadata": {},
            "outputs": [],
            "source": [
                "np.size(L1)"
            ]
        },
        {
            "cell_type": "code",
            "execution_count": null,
            "metadata": {},
            "outputs": [],
            "source": [
                "np.size(C1)"
            ]
        },
        {
            "cell_type": "code",
            "execution_count": null,
            "metadata": {},
            "outputs": [],
            "source": [
                "np.size(M1)"
            ]
        },
        {
            "cell_type": "code",
            "execution_count": null,
            "metadata": {},
            "outputs": [],
            "source": [
                "np.size(M1[1])"
            ]
        },
        {
            "cell_type": "markdown",
            "metadata": {},
            "source": [
                " Acc\u00e9der aux \u00e9l\u00e9ments d'un tableau 2D (indiceLigne, indiceColonne) :"
            ]
        },
        {
            "cell_type": "code",
            "execution_count": null,
            "metadata": {},
            "outputs": [],
            "source": [
                "iL = 1\n",
                "iC = 2\n",
                "M1[iL, iC]"
            ]
        },
        {
            "cell_type": "markdown",
            "metadata": {},
            "source": [
                "Extraire une ligne, une colonne :"
            ]
        },
        {
            "cell_type": "code",
            "execution_count": null,
            "metadata": {},
            "outputs": [],
            "source": [
                "print(M1[1, :])\n",
                "print(M1[:, 2])"
            ]
        },
        {
            "cell_type": "markdown",
            "metadata": {},
            "source": [
                "Extraire une sous-matrice :"
            ]
        },
        {
            "cell_type": "code",
            "execution_count": null,
            "metadata": {},
            "outputs": [],
            "source": [
                "M1[1:2, 0:1]"
            ]
        },
        {
            "cell_type": "markdown",
            "metadata": {},
            "source": [
                "Fonctions pr\u00e9d\u00e9finies de cr\u00e9ation de tableaux :"
            ]
        },
        {
            "cell_type": "code",
            "execution_count": null,
            "metadata": {},
            "outputs": [],
            "source": [
                "M2 = np.zeros(3) \n",
                "M2"
            ]
        },
        {
            "cell_type": "code",
            "execution_count": null,
            "metadata": {},
            "outputs": [],
            "source": [
                "M3 = np.zeros((1,3))\n",
                "M3"
            ]
        },
        {
            "cell_type": "code",
            "execution_count": null,
            "metadata": {},
            "outputs": [],
            "source": [
                "M4 = np.zeros((2, 3))\n",
                "M4"
            ]
        },
        {
            "cell_type": "code",
            "execution_count": null,
            "metadata": {},
            "outputs": [],
            "source": [
                "M5 = np.ones((2,4))\n",
                "M5"
            ]
        },
        {
            "cell_type": "code",
            "execution_count": null,
            "metadata": {},
            "outputs": [],
            "source": [
                "Id = np.eye(3) \n",
                "Id"
            ]
        },
        {
            "cell_type": "markdown",
            "metadata": {},
            "source": [
                "Cr\u00e9er un tableau \u00e0 partir de ses lignes :"
            ]
        },
        {
            "cell_type": "code",
            "execution_count": null,
            "metadata": {},
            "outputs": [],
            "source": [
                "L1 = np.array([5, 1, 3])\n",
                "L2 = np.array([10, 4, 2])\n",
                "L3 = np.array([3, 5, 0])\n",
                "M6 = np.concatenate(([L1], [L2], [L3]))\n",
                "M6"
            ]
        },
        {
            "cell_type": "markdown",
            "metadata": {},
            "source": [
                "Redimensionner une matrice :\n",
                "\n",
                "    - le nombre d'\u00e9lements est le m\u00eame avant et apr\u00e8s\n",
                "    - le parcours ligne par ligne donne la m\u00eame suite d'\u00e9l\u00e9ments"
            ]
        },
        {
            "cell_type": "code",
            "execution_count": null,
            "metadata": {},
            "outputs": [],
            "source": [
                "L1 = np.array([5, 1, 3])\n",
                "L2 = np.array([10, 4, 2])\n",
                "M7 = np.concatenate(([L1], [L2]))\n",
                "M7"
            ]
        },
        {
            "cell_type": "code",
            "execution_count": null,
            "metadata": {},
            "outputs": [],
            "source": [
                "M8 = np.reshape(M7, (3, 2))\n",
                "M8"
            ]
        },
        {
            "cell_type": "markdown",
            "metadata": {},
            "source": [
                "##### Op\u00e9rations sur les matrices "
            ]
        },
        {
            "cell_type": "markdown",
            "metadata": {},
            "source": [
                "Produit scalaire de deux vecteurs :"
            ]
        },
        {
            "cell_type": "code",
            "execution_count": null,
            "metadata": {},
            "outputs": [],
            "source": [
                "L1 = np.array([1, 2, 3])\n",
                "L2 = np.array([1, 2, 3])\n",
                "prod = np.dot(L1, L2)\n",
                "prod"
            ]
        },
        {
            "cell_type": "markdown",
            "metadata": {},
            "source": [
                "Soit <code>M</code> la matrice d\u00e9finie comme suit :"
            ]
        },
        {
            "cell_type": "code",
            "execution_count": null,
            "metadata": {},
            "outputs": [],
            "source": [
                "L = np.linspace(0, 10, 9)\n",
                "M = np.array([L, L, L])\n",
                "M"
            ]
        },
        {
            "cell_type": "markdown",
            "metadata": {},
            "source": [
                "Somme de deux matrices :"
            ]
        },
        {
            "cell_type": "code",
            "execution_count": null,
            "metadata": {},
            "outputs": [],
            "source": [
                "M + M"
            ]
        },
        {
            "cell_type": "markdown",
            "metadata": {},
            "source": [
                "Produit \u00e9l\u00e9ment par \u00e9l\u00e9ment de deux matrices :"
            ]
        },
        {
            "cell_type": "code",
            "execution_count": null,
            "metadata": {},
            "outputs": [],
            "source": [
                "M * M"
            ]
        },
        {
            "cell_type": "markdown",
            "metadata": {},
            "source": [
                "Produit de deux matrices (compatibles) :"
            ]
        },
        {
            "cell_type": "code",
            "execution_count": null,
            "metadata": {},
            "outputs": [],
            "source": [
                "np.matmul(M, M) #erreur : pourquoi ?"
            ]
        },
        {
            "cell_type": "code",
            "execution_count": null,
            "metadata": {},
            "outputs": [],
            "source": [
                "np.matmul(M, M.T)"
            ]
        },
        {
            "cell_type": "markdown",
            "metadata": {},
            "source": [
                "A pr\u00e9sent, nous allons illustrer la puissance de le biblioth\u00e8que <code>numpy</code>. Pour cela nous allons d'abord d\u00e9finir notre propre fonction <code>prod_matrices</code> calculant le produit en utilisant des boucles imbriqu\u00e9es : "
            ]
        },
        {
            "cell_type": "code",
            "execution_count": null,
            "metadata": {},
            "outputs": [],
            "source": [
                "def prod_matrices(M1, M2):\n",
                "    M = np.zeros((M1.shape[0], M2.shape[1]))\n",
                "    for i in range(M1.shape[0]):\n",
                "        for j in range(M2.shape[1]):\n",
                "            for k in range(M1.shape[1]):\n",
                "                M[i, j] += M1[i, k] * M2[k,j] \n",
                "    return M"
            ]
        },
        {
            "cell_type": "markdown",
            "metadata": {},
            "source": [
                "Test de la fonction :"
            ]
        },
        {
            "cell_type": "code",
            "execution_count": null,
            "metadata": {},
            "outputs": [],
            "source": [
                "M1 = np.array([[2, 1, 1], [4, 5, 7]])\n",
                "M2 = np.array([[3, 2], [2, 1], [5, 4]])\n",
                "prod_matrices(M1, M2)"
            ]
        },
        {
            "cell_type": "markdown",
            "metadata": {},
            "source": [
                "Avec un peu plus d'\u00e9l\u00e9ments :"
            ]
        },
        {
            "cell_type": "code",
            "execution_count": null,
            "metadata": {},
            "outputs": [],
            "source": [
                "L = np.linspace(0, 1000, 1000)\n",
                "M = np.array([L, L, L])"
            ]
        },
        {
            "cell_type": "code",
            "execution_count": null,
            "metadata": {},
            "outputs": [],
            "source": [
                "P = prod_matrices(M, M.T)\n",
                "P"
            ]
        },
        {
            "cell_type": "markdown",
            "metadata": {},
            "source": [
                "La fonction <code>time</code> permet d'afficher des statistiques sur le temps d'ex\u00e9cution d'une instruction <code>Python</code>. Ex\u00e9cutez les instructions suivantes et observez les r\u00e9sultats :"
            ]
        },
        {
            "cell_type": "code",
            "execution_count": null,
            "metadata": {},
            "outputs": [],
            "source": [
                "%time P = prod_matrices(M, M.T) "
            ]
        },
        {
            "cell_type": "code",
            "execution_count": null,
            "metadata": {},
            "outputs": [],
            "source": [
                "%time P= np.matmul(M, M.T)"
            ]
        },
        {
            "cell_type": "markdown",
            "metadata": {},
            "source": [
                "La diff\u00e9rence est encore plus flagrante si on utilise des matrices creuses : "
            ]
        },
        {
            "cell_type": "code",
            "execution_count": null,
            "metadata": {},
            "outputs": [],
            "source": [
                "L1 = np.linspace(0, 1000, 1000)\n",
                "L2 = np.zeros(1000)\n",
                "M = np.array([L2, L2, L1])"
            ]
        },
        {
            "cell_type": "code",
            "execution_count": null,
            "metadata": {},
            "outputs": [],
            "source": [
                "%time P = prod_matrices(M, M.T) "
            ]
        },
        {
            "cell_type": "code",
            "execution_count": null,
            "metadata": {},
            "outputs": [],
            "source": [
                "%time P= np.matmul(M, M.T)"
            ]
        },
        {
            "cell_type": "markdown",
            "metadata": {},
            "source": [
                "### Exercice 2.\n",
                "\n",
                "Chercher des \u00e9l\u00e9ments dans un tableau"
            ]
        },
        {
            "cell_type": "markdown",
            "metadata": {},
            "source": [
                "1. A tester : "
            ]
        },
        {
            "cell_type": "code",
            "execution_count": null,
            "metadata": {},
            "outputs": [],
            "source": [
                "from random import sample, choices"
            ]
        },
        {
            "cell_type": "code",
            "execution_count": null,
            "metadata": {},
            "outputs": [],
            "source": [
                "V1 = np.reshape(choices(range(1, 25), k=200), (200, ))\n",
                "V1"
            ]
        },
        {
            "cell_type": "code",
            "execution_count": null,
            "metadata": {},
            "outputs": [],
            "source": [
                "V2 = V1[V1>20]\n",
                "V2"
            ]
        },
        {
            "cell_type": "markdown",
            "metadata": {},
            "source": [
                "2. Cr\u00e9er deux vecteurs ligne d\u2019entiers <code>Va</code> et <code>Vb</code>, de m\u00eame taille, contenant des valeurs enti\u00e8res al\u00e9atoires."
            ]
        },
        {
            "cell_type": "code",
            "execution_count": null,
            "metadata": {},
            "outputs": [],
            "source": []
        },
        {
            "cell_type": "markdown",
            "metadata": {},
            "source": [
                "3. Tester le code suivant. Que contient <code>V</code>?"
            ]
        },
        {
            "cell_type": "code",
            "execution_count": null,
            "metadata": {},
            "outputs": [],
            "source": [
                "V = np.array([Va[i] if Va[i] > Vb[i] else Vb[i] for i in range(Va.shape[0])])\n",
                "V"
            ]
        },
        {
            "cell_type": "markdown",
            "metadata": {},
            "source": [
                "4. Quelle est la fonction de <code>numpy</code> qui permet d'obtenir le m\u00eame r\u00e9sultat? Tester."
            ]
        },
        {
            "cell_type": "code",
            "execution_count": null,
            "metadata": {},
            "outputs": [],
            "source": []
        },
        {
            "cell_type": "markdown",
            "metadata": {},
            "source": [
                "# 2. Probabilit\u00e9s et statistiques, lois usuelles\n",
                "\n",
                "Dans cette section, nous allons passer en revue quelques \u00e9l\u00e9ments de probabilit\u00e9s et statistiques. Nous allons essentiellement faire de l'inf\u00e9rence statistique et manipuler la loi normale."
            ]
        },
        {
            "cell_type": "markdown",
            "metadata": {},
            "source": [
                "#### Loi des grands nombres\n",
                "\n",
                "On lance un d\u00e9 bias\u00e9. On obtient pile avec probabilit\u00e9 $p\\in[0, 1]$ et face avec probabilit\u00e9 $q = 1 - p$.\n",
                "\n",
                "Ecrire une fonction <code>lancer(n, p)</code> qui simule le lancer de ce d\u00e9 <code>n</code> fois avec la probabilit\u00e9 <code>p</code> d'obtenir pile et qui retourne le nombre de fois o\u00f9 pile est obtenu.\n",
                "\n",
                "<em>Indication :</em> <code>uniform(0,1)</code> de la biblioth\u00e8que <code>random</code> retourne un nombre r\u00e9el al\u00e9atoire tir\u00e9 uniform\u00e9ment dans l'intervalle $[0, 1]$. "
            ]
        },
        {
            "cell_type": "code",
            "execution_count": null,
            "metadata": {},
            "outputs": [],
            "source": []
        },
        {
            "cell_type": "markdown",
            "metadata": {},
            "source": [
                "Essayer avec diff\u00e9rentes valeurs $p$ et des valeurs de $n$ croissantes. Qu'observez-vous ?"
            ]
        },
        {
            "cell_type": "code",
            "execution_count": null,
            "metadata": {},
            "outputs": [],
            "source": []
        },
        {
            "cell_type": "markdown",
            "metadata": {},
            "source": [
                "#### Loi normale\n",
                "\n",
                "La loi normale est tr\u00e8s utilis\u00e9e en statistiques. Elle est, entre autre, la loi limite pour d'autres lois. \n",
                "\n",
                "Commen\u00e7ons par g\u00e9n\u00e9rer des nombres suivant une loi normale mais avec diff\u00e9rentes valeurs pour les param\u00e8tres $\\mu$ et $\\sigma$.\n",
                "\n",
                "Ex\u00e9cutez la cellule suivante et observez le r\u00e9sultat : "
            ]
        },
        {
            "cell_type": "code",
            "execution_count": null,
            "metadata": {},
            "outputs": [],
            "source": [
                "from scipy.stats import norm\n",
                "import matplotlib.pyplot as plt\n",
                "%matplotlib inline\n",
                "\n",
                "mu = [0, 1, 2, 3]\n",
                "sigma = [1, 2, 3, 4]\n",
                "\n",
                "x_min = -16\n",
                "x_max = 16\n",
                "x_nb = 100\n",
                "\n",
                "x = np.linspace(x_min, x_max, x_nb)\n",
                "\n",
                "for i in range(len(mu)):\n",
                "    y = norm.pdf(x, mu[i], sigma[i])\n",
                "    plt.plot(x, y, label='mu='+str(mu[i])+', sigma='+str(sigma[i]))\n",
                "plt.legend(loc='upper right')\n",
                "plt.show()"
            ]
        },
        {
            "cell_type": "markdown",
            "metadata": {},
            "source": [
                "Commentez les courbes et observez l'impact des valeurs de $\\sigma$."
            ]
        },
        {
            "cell_type": "markdown",
            "metadata": {},
            "source": [
                "## Inf\u00e9rence des param\u00e8tres d'une loi normale\n",
                "\n",
                "On ins\u00e8re une banni\u00e8re publicitaire dans une page web. On trace les connexions \u00e0 cette page aupr\u00e8s de $50$ utilisateurs et ce pendant $1000$ jours. Pour chaque visite on note si l'utilisateur a cliqu\u00e9 sur la banni\u00e8re ou non. \n",
                "\n",
                "Les chiffres des clics (par jour) sont donn\u00e9s dans le fichier <code>baniere.csv</code> disponible \u00e0 l'adresse https://www.labri.fr/perso/zemmari/datasets/baniere.csv."
            ]
        },
        {
            "cell_type": "markdown",
            "metadata": {},
            "source": [
                "1. Charger les donn\u00e9es dans une variable de nom <code>data</code> en utilisant la fonction <code>read_csv</code> de la biblioth\u00e8que <code>pandas</code> (elle accepte les urls)."
            ]
        },
        {
            "cell_type": "code",
            "execution_count": null,
            "metadata": {},
            "outputs": [],
            "source": []
        },
        {
            "cell_type": "markdown",
            "metadata": {},
            "source": [
                "2. Donner une estimation de la probabilit\u00e9 qu'un visiteur du site (choisi au hasard) clique sur la banni\u00e8re. "
            ]
        },
        {
            "cell_type": "code",
            "execution_count": null,
            "metadata": {},
            "outputs": [],
            "source": []
        },
        {
            "cell_type": "markdown",
            "metadata": {},
            "source": [
                "3. Le code suivant permet de tracer l'histogramme des donn\u00e9es comme une courbe. Qu'observez-vous pour la forme de la courbe ? "
            ]
        },
        {
            "cell_type": "code",
            "execution_count": null,
            "metadata": {},
            "outputs": [],
            "source": [
                "from collections import Counter\n",
                "\n",
                "compteur = Counter(list(data[0]))\n",
                "#print(compteur)\n",
                "\n",
                "x = list(compteur.keys())\n",
                "print(x)\n",
                "y = [compteur[x[i]] for i in range(len(x))  ]\n",
                "print(y)\n",
                "plt.scatter(x, y, c='red', marker='+')"
            ]
        },
        {
            "cell_type": "markdown",
            "metadata": {},
            "source": [
                "4. Calculez l'estimateur $\\hat\\mu$ de la moyenne et $\\hat\\sigma$ de la variance. \n",
                "\n",
                "<em>Indication :</em> des estimateurs non biais\u00e9s de la moyenne et de la variance d'une s\u00e9rie $(x_i)_{1\\leq i\\leq n}$ sont donn\u00e9s par :\n",
                "$$\n",
                "\\hat\\mu = \\frac 1 n \\sum_{i=1}^n x_i, \\,\\,\\,\\, \\hat\\sigma^2 = \\frac 1 {n} \\sum_{i=1}^n \\left(x_i - \\hat\\mu\\right)^2.\n",
                "$$\n",
                "On peut n\u00e9anmoins utiliser directement les fonctions <code>average</code> et <code>std</code> de la biblioth\u00e8que <code>numpy</code>."
            ]
        },
        {
            "cell_type": "code",
            "execution_count": null,
            "metadata": {},
            "outputs": [],
            "source": []
        },
        {
            "cell_type": "markdown",
            "metadata": {},
            "source": [
                "5. Dessinez la courbe de la fonction de r\u00e9partition de la loi normale de param\u00e8tres $\\hat\\mu$ et $\\hat\\sigma$ sur la m\u00eame figure que celle de la question 4. Qu'observez vous ?"
            ]
        },
        {
            "cell_type": "code",
            "execution_count": null,
            "metadata": {},
            "outputs": [],
            "source": []
        }
    ],
    "metadata": {
        "kernelspec": {
            "display_name": "Python 3 (ipykernel)",
            "language": "python",
            "name": "python3"
        },
        "language_info": {
            "codemirror_mode": {
                "name": "ipython",
                "version": 3
            },
            "file_extension": ".py",
            "mimetype": "text/x-python",
            "name": "python",
            "nbconvert_exporter": "python",
            "pygments_lexer": "ipython3",
            "version": "3.11.4"
        }
    },
    "nbformat": 4,
    "nbformat_minor": 2
}
