{
    "cells": [
        {
            "cell_type": "markdown",
            "metadata": {},
            "source": [
                "# Analyse, classification et indexation des données: feuille 9\n",
                "### Apprentissage supervisé, Arbres de décision et Forêts aléatoires\n",
                "\n",
                "## Avant propos\n",
                "\n",
                "Dans cette feuille, nous allons étudier une catégorie d'algorithmes d'apprentissage supervisé différente de ce que nous avons vu jusque là : \n",
                "\n",
                "- les arbres de décisions ont cela de particulier qu'ils sont construits en utilisant des éléments de la théorie de l'information. Leur utilisation, ensuite, est assez facilement implémentable par des règles Si-Sinon simples. \n",
                "\n",
                "- les forêts aléatoires implémentent, elles, une approche de bagging."
            ]
        },
        {
            "cell_type": "code",
            "execution_count": 4,
            "metadata": {},
            "outputs": [],
            "source": [
                "import numpy as np\n",
                "import pandas as pd\n",
                "import warnings\n",
                "import math\n",
                "warnings.filterwarnings(\"ignore\")"
            ]
        },
        {
            "cell_type": "markdown",
            "metadata": {},
            "source": [
                "### Exercice 1. Arbres de décision (à la main)\n",
                "\n",
                "Dans ce premier exercice, nous allons écrire un ensemble de fonctions implémentant les éléments vus en cours et permettant de construire un arbre de décision.  \n",
                "\n",
                "Pour vérifier vos fonctions, vous pouvez les appliquer à l'exemple très simple vu en cours :\n"
            ]
        },
        {
            "cell_type": "code",
            "execution_count": 9,
            "metadata": {},
            "outputs": [
                {
                    "data": {
                        "text/html": [
                            "<div>\n",
                            "<style scoped>\n",
                            "    .dataframe tbody tr th:only-of-type {\n",
                            "        vertical-align: middle;\n",
                            "    }\n",
                            "\n",
                            "    .dataframe tbody tr th {\n",
                            "        vertical-align: top;\n",
                            "    }\n",
                            "\n",
                            "    .dataframe thead th {\n",
                            "        text-align: right;\n",
                            "    }\n",
                            "</style>\n",
                            "<table border=\"1\" class=\"dataframe\">\n",
                            "  <thead>\n",
                            "    <tr style=\"text-align: right;\">\n",
                            "      <th></th>\n",
                            "      <th>A</th>\n",
                            "      <th>B</th>\n",
                            "      <th>Classe</th>\n",
                            "    </tr>\n",
                            "  </thead>\n",
                            "  <tbody>\n",
                            "    <tr>\n",
                            "      <th>0</th>\n",
                            "      <td>0</td>\n",
                            "      <td>1</td>\n",
                            "      <td>C1</td>\n",
                            "    </tr>\n",
                            "    <tr>\n",
                            "      <th>1</th>\n",
                            "      <td>0</td>\n",
                            "      <td>0</td>\n",
                            "      <td>C1</td>\n",
                            "    </tr>\n",
                            "    <tr>\n",
                            "      <th>2</th>\n",
                            "      <td>1</td>\n",
                            "      <td>1</td>\n",
                            "      <td>C2</td>\n",
                            "    </tr>\n",
                            "    <tr>\n",
                            "      <th>3</th>\n",
                            "      <td>1</td>\n",
                            "      <td>0</td>\n",
                            "      <td>C2</td>\n",
                            "    </tr>\n",
                            "  </tbody>\n",
                            "</table>\n",
                            "</div>"
                        ],
                        "text/plain": [
                            "   A  B Classe\n",
                            "0  0  1     C1\n",
                            "1  0  0     C1\n",
                            "2  1  1     C2\n",
                            "3  1  0     C2"
                        ]
                    },
                    "execution_count": 9,
                    "metadata": {},
                    "output_type": "execute_result"
                }
            ],
            "source": [
                "exemple_cours = pd.DataFrame(data={'A': [0, 0, 1, 1],\n",
                "                                  'B': [1, 0, 1, 0],\n",
                "                                  'Classe': ['C1', 'C1', 'C2', 'C2']})\n",
                "exemple_cours"
            ]
        },
        {
            "cell_type": "markdown",
            "metadata": {},
            "source": [
                "1- Ecrire une fonction <code>information(dataset, label_feature)</code> permettant de calculer la quantité d'information nécessaire pour classifier un élément du corpus <code>dataset</code>. Le paramètre <code>label_feature</code> indique la colonne contenant les classes des éléments."
            ]
        },
        {
            "cell_type": "code",
            "execution_count": 53,
            "metadata": {},
            "outputs": [
                {
                    "name": "stdout",
                    "output_type": "stream",
                    "text": [
                        "info de dataset : 4.0\n"
                    ]
                }
            ],
            "source": [
                "def information(dataset, label_feature):\n",
                "    p = sum(dataset[label_feature] == \"C1\")\n",
                "    n = sum(dataset[label_feature] == \"C2\")\n",
                "    #print(f\"nb de p = {p} | nb de n = {n}\")\n",
                "    if p == 0 or n == 0:\n",
                "        return 0  # Entropie est 0 lorsque l'une des probabilités est 0\n",
                "\n",
                "    total = p + n\n",
                "    info = -p * math.log2(p / total) - n * math.log2(n / total)\n",
                "    #print(f\"information : {info}\")\n",
                "    return info\n",
                "\n",
                "info_result = information(exemple_cours, \"Classe\")\n",
                "print(f\"info de dataset : {info_result}\")\n"
            ]
        },
        {
            "cell_type": "markdown",
            "metadata": {},
            "source": [
                "2- Ecrire une fonction <code>entropy(dataset, feature, label_feature)</code> calculant l'entropie du descripteur <code>feature</code>"
            ]
        },
        {
            "cell_type": "code",
            "execution_count": 46,
            "metadata": {},
            "outputs": [
                {
                    "name": "stdout",
                    "output_type": "stream",
                    "text": [
                        "Entropie de A : 0\n",
                        "Entropie de B : 4\n"
                    ]
                }
            ],
            "source": [
                "def entropy(dataset, feature, label_feature):\n",
                "    entropy_result = 0\n",
                "    # Compte le nombre de valeurs que peut prendre A \n",
                "    nvu = dataset[feature].nunique()\n",
                "    for i in range(nvu):\n",
                "        #Appel le dataset avec les ligne où A = i\n",
                "        subset = dataset[dataset[feature] == i]\n",
                "        entropy_result = entropy_result + int(information(subset, label_feature))\n",
                "        # print(f\"Entropie de {i} : {information(subset, label_feature)}\")\n",
                "        # print(f\"Entropie de {i} : {entropy_result}\")\n",
                "    return entropy_result\n",
                "\n",
                "etp = entropy(exemple_cours, \"B\", \"Classe\")\n",
                "etp1 = entropy(exemple_cours, \"A\", \"Classe\")\n",
                "print(f\"Entropie de A : {etp1}\")\n",
                "print(f\"Entropie de B : {etp}\")"
            ]
        },
        {
            "cell_type": "markdown",
            "metadata": {},
            "source": [
                "3- Ecrire une fonction <code>gain(dataset, feature, label_feature)</code> calculant le gain d'information obtenu en choisissant le descripteur <code>feature</code> pour partitionner le corpus <code>dataset</code>"
            ]
        },
        {
            "cell_type": "code",
            "execution_count": 62,
            "metadata": {},
            "outputs": [
                {
                    "name": "stdout",
                    "output_type": "stream",
                    "text": [
                        "Gain de A : 4.0\n",
                        "Gain de B : 0.0\n"
                    ]
                }
            ],
            "source": [
                "def gain(dataset, feature, label_feature):\n",
                "    return information(dataset, label_feature) - entropy(dataset, feature, label_feature)\n",
                "\n",
                "print(f\"Gain de A : {gain(exemple_cours, 'A', 'Classe')}\")\n",
                "print(f\"Gain de B : {gain(exemple_cours, 'B', 'Classe')}\")"
            ]
        },
        {
            "cell_type": "markdown",
            "metadata": {},
            "source": [
                "4- En vous aidant des fonctions que vous avez écrites ci-dessus, construisez l'arbre de décision pour prédire Achat avec le corpus suivant. On ne demande pas d'écrire un programme qui construit l'arbre mais plutôt d'utiliser les fonctions pour faire les calculs à votre place.\n",
                "\n",
                "\\begin{array}{|c|c|c|c|c|}\n",
                "\\hline\n",
                "\\hline\n",
                "Sexe & Age & Etat civil & Revenu & Achat \\\\\n",
                "\\hline\n",
                "Homme & 18-35   & Marie       & Moyen  & Non \\\\\n",
                "Homme & <18     & Celibataire & Faible & Non \\\\\n",
                "Homme & >35     & Marie       & Eleve  & Oui \\\\\n",
                "Femme & <18     & Celibataire & Moyen  & Non \\\\\n",
                "Homme & 18 - 35 & Celibataire & Moyen  & Non \\\\\n",
                "Femme & 18 - 35 & Celibataire & Eleve  & Oui \\\\\n",
                "Femme & 18 - 35 & Marie       & Faible & Non \\\\\n",
                "Homme & 18 - 35 & Marie       & Eleve  & Oui \\\\\n",
                "Homme & >35     & Celibataire & Faible & Oui \\\\\n",
                "Femme & <18     & Celibataire & Moyen  & Non \\\\\n",
                "Femme & >35     & Celibataire & Moyen  & Oui \\\\\n",
                "Femme & >35     & Marie       & Eleve  & Oui \\\\\n",
                "Homme & 18 - 35 & Celibataire & Faible & Non\\\\\n",
                "Femme & 18 - 35 & Marie       & Moyen  & Oui\\\\\n",
                "\\hline\n",
                "\\hline\n",
                "\\end{array}"
            ]
        },
        {
            "cell_type": "code",
            "execution_count": 64,
            "metadata": {},
            "outputs": [],
            "source": [
                "dataset = pd.DataFrame(data={'Sexe': ['Homme', 'Homme', 'Homme', 'Femme','Homme', 'Femme', 'Femme', \n",
                "                                'Homme', 'Homme', 'Femme', 'Femme', 'Femme','Homme', 'Femme'],\n",
                "                      'Age': ['18-35', '<18', '>35', '<18', '18-35', '18-35', '18-35', '18-35', \n",
                "                              '>35', '<18', '>35', '>35', '18-35', '18-35'],\n",
                "                      'Etat_civil': ['marie', 'celibataire', 'marie', 'celibataire', 'celibataire', \n",
                "                                     'celibataire', 'marie', 'marie', 'celibataire', 'celibataire',\n",
                "                                    'celibataire', 'marie', 'celibataire', 'marie'],\n",
                "                      'Revenu': ['Moyen', 'Faible', 'Eleve', 'Moyen', 'Moyen', 'Eleve', 'Faible',\n",
                "                                'Eleve', 'Faible', 'Moyen', 'Moyen', 'Eleve', 'Faible', 'Moyen'],\n",
                "                      'Achat': ['Non', 'Non', 'Oui', 'Non', 'Non', 'Oui', 'Non', 'Oui', 'Oui', 'Non',\n",
                "                               'Oui', 'Oui', 'Non', 'Oui']})\n",
                "#dataset"
            ]
        },
        {
            "cell_type": "code",
            "execution_count": 65,
            "metadata": {},
            "outputs": [
                {
                    "name": "stdout",
                    "output_type": "stream",
                    "text": [
                        "0\n"
                    ]
                }
            ],
            "source": [
                "print(information(dataset, \"Achat\"))"
            ]
        },
        {
            "cell_type": "code",
            "execution_count": 66,
            "metadata": {},
            "outputs": [
                {
                    "name": "stdout",
                    "output_type": "stream",
                    "text": [
                        "gain pour le SEX : 0\n",
                        "gain pour le AGE : 0\n",
                        "gain pour le ETAT CIVIL : 0\n",
                        "gain pour le REVENU : 0\n"
                    ]
                }
            ],
            "source": [
                "print(f\"gain pour le SEX : {gain(dataset, 'Sexe', 'Achat')}\")\n",
                "print(f\"gain pour le AGE : {gain(dataset, 'Age', 'Achat')}\")\n",
                "print(f\"gain pour le ETAT CIVIL : {gain(dataset, 'Etat_civil', 'Achat')}\")\n",
                "print(f\"gain pour le REVENU : {gain(dataset, 'Revenu', 'Achat')}\")\n"
            ]
        },
        {
            "cell_type": "code",
            "execution_count": null,
            "metadata": {},
            "outputs": [],
            "source": []
        },
        {
            "cell_type": "code",
            "execution_count": null,
            "metadata": {},
            "outputs": [],
            "source": []
        },
        {
            "cell_type": "code",
            "execution_count": null,
            "metadata": {},
            "outputs": [],
            "source": []
        },
        {
            "cell_type": "code",
            "execution_count": null,
            "metadata": {},
            "outputs": [],
            "source": []
        },
        {
            "cell_type": "code",
            "execution_count": null,
            "metadata": {},
            "outputs": [],
            "source": []
        },
        {
            "cell_type": "code",
            "execution_count": null,
            "metadata": {},
            "outputs": [],
            "source": []
        },
        {
            "cell_type": "code",
            "execution_count": null,
            "metadata": {},
            "outputs": [],
            "source": []
        },
        {
            "cell_type": "markdown",
            "metadata": {},
            "source": [
                "5- Dessiner l'arbre de décision obtenu."
            ]
        },
        {
            "cell_type": "markdown",
            "metadata": {},
            "source": []
        },
        {
            "cell_type": "markdown",
            "metadata": {},
            "source": [
                "## Exercice 2. Arbres de décision avec <code>sklearn</code>"
            ]
        },
        {
            "cell_type": "markdown",
            "metadata": {},
            "source": [
                "Dans cet exercice, nous allons utiliser la bibliothèque <code>sklearn</code> pour entraîner et tester un arbre de décision. \n",
                "\n",
                "Pour cela, nous allons utiliser le corpus <code>titanic.csv</code>. Un échantillon de ce corpus est diponible à l'adresse : \n",
                "\n",
                "https://www.labri.fr/perso/zemmari/datasets/titanic.csv\n",
                "\n",
                "Une description détaillée de ce corpus et des descripteurs le composant peut être consultée à l'adresse :\n",
                "\n",
                "https://www.kaggle.com/c/titanic/data\n",
                "\n",
                "On vous laisse découvrir la tragédie à laquelle est lié ce corpus :-)\n"
            ]
        },
        {
            "cell_type": "markdown",
            "metadata": {},
            "source": [
                "1- Chargez le corpus et explorez son contenu."
            ]
        },
        {
            "cell_type": "code",
            "execution_count": null,
            "metadata": {},
            "outputs": [],
            "source": []
        },
        {
            "cell_type": "code",
            "execution_count": null,
            "metadata": {},
            "outputs": [],
            "source": []
        },
        {
            "cell_type": "markdown",
            "metadata": {},
            "source": [
                "2- Supprimez les lignes contenant des données manquantes"
            ]
        },
        {
            "cell_type": "code",
            "execution_count": null,
            "metadata": {},
            "outputs": [],
            "source": []
        },
        {
            "cell_type": "markdown",
            "metadata": {},
            "source": [
                "3- On souhaite construire un modèle pour prédire, pour un passager, s'il survivra ou non. Supprimez les descripteurs qui ne vous paraissent pas pertinents pour la prédiction. Expliquez vos choix."
            ]
        },
        {
            "cell_type": "code",
            "execution_count": null,
            "metadata": {},
            "outputs": [],
            "source": []
        },
        {
            "cell_type": "markdown",
            "metadata": {},
            "source": [
                "4- La cellule suivante permet de convertir une catégorie au format entier ou au format texte en un entier. \n",
                "Exécutez la telle quelle et observez son résultat."
            ]
        },
        {
            "cell_type": "code",
            "execution_count": null,
            "metadata": {},
            "outputs": [],
            "source": [
                "from sklearn import preprocessing\n",
                "\n",
                "cols = ['Sex', 'Embarked']\n",
                "le = preprocessing.LabelEncoder()\n",
                "for c in cols:\n",
                "    le.fit(dataset[c])\n",
                "    dataset[c] = le.transform(dataset[c])\n",
                "dataset"
            ]
        },
        {
            "cell_type": "markdown",
            "metadata": {},
            "source": [
                "5- Séparez les données en un ensemble $X$ contenant les variables explicatives et $y$ la variable à prédire."
            ]
        },
        {
            "cell_type": "code",
            "execution_count": null,
            "metadata": {},
            "outputs": [],
            "source": []
        },
        {
            "cell_type": "markdown",
            "metadata": {},
            "source": [
                "6- Partitionnez les données en ensemble d'entraînement et de test"
            ]
        },
        {
            "cell_type": "code",
            "execution_count": null,
            "metadata": {},
            "outputs": [],
            "source": []
        },
        {
            "cell_type": "markdown",
            "metadata": {},
            "source": [
                "7- Instanciez un classifieur Decision Tree et entraînez-le avec les données d'entraînement."
            ]
        },
        {
            "cell_type": "code",
            "execution_count": null,
            "metadata": {},
            "outputs": [],
            "source": []
        },
        {
            "cell_type": "markdown",
            "metadata": {},
            "source": [
                "8- Visualisez l'arbre obtenu. Décommentez/complétez pour cela le code suivant"
            ]
        },
        {
            "cell_type": "code",
            "execution_count": null,
            "metadata": {},
            "outputs": [],
            "source": [
                "#from sklearn.tree import export_graphviz\n",
                "#from six import StringIO  \n",
                "#from IPython.display import Image  \n",
                "#import pydotplus\n",
                "\n",
                "#features_cols = ...\n",
                "#class_names=['0','1']\n",
                "\n",
                "#dot_data = StringIO()\n",
                "#export_graphviz(dt, out_file=dot_data,  \n",
                "#                filled=True, rounded=True,\n",
                "#                special_characters=True,feature_names = features_cols,class_names=class_names)\n",
                "#graph = pydotplus.graph_from_dot_data(dot_data.getvalue())  \n",
                "#graph.write_png('titanic.png')\n",
                "#Image(graph.create_png())"
            ]
        },
        {
            "cell_type": "code",
            "execution_count": null,
            "metadata": {},
            "outputs": [],
            "source": []
        },
        {
            "cell_type": "markdown",
            "metadata": {},
            "source": [
                "9- Mesurez la qualité de votre classifieur."
            ]
        },
        {
            "cell_type": "code",
            "execution_count": null,
            "metadata": {},
            "outputs": [],
            "source": []
        },
        {
            "cell_type": "markdown",
            "metadata": {},
            "source": [
                "10- Changez les valeurs par défaut des différents paramètres et observez la qualité de votre classifieur. "
            ]
        },
        {
            "cell_type": "code",
            "execution_count": null,
            "metadata": {},
            "outputs": [],
            "source": []
        },
        {
            "cell_type": "code",
            "execution_count": null,
            "metadata": {},
            "outputs": [],
            "source": []
        },
        {
            "cell_type": "markdown",
            "metadata": {},
            "source": [
                "## Exercice 3. Random forest"
            ]
        },
        {
            "cell_type": "markdown",
            "metadata": {},
            "source": [
                "Quelles sont les performances d'un classifieur de type forêts aléatoires sur le même corpus que l'exercice précédant ?\n",
                "\n"
            ]
        },
        {
            "cell_type": "code",
            "execution_count": null,
            "metadata": {},
            "outputs": [],
            "source": []
        },
        {
            "cell_type": "markdown",
            "metadata": {},
            "source": [
                "Cherchez le meilleur paramètrage pour le meilleur classifieur en complétant / décommentant le code suivant."
            ]
        },
        {
            "cell_type": "code",
            "execution_count": null,
            "metadata": {},
            "outputs": [],
            "source": [
                "# from sklearn.model_selection import RandomizedSearchCV\n",
                "# Number of trees in random forest\n",
                "# n_estimators = ...\n",
                "# Number of features to consider at every split\n",
                "# max_features = ...\n",
                "# Maximum number of levels in tree\n",
                "# max_depth = ...\n",
                "# Minimum number of samples required to split a node\n",
                "# min_samples_split = ...\n",
                "# Minimum number of samples required at each leaf node\n",
                "# min_samples_leaf = ...\n",
                "# Method of selecting samples for training each tree\n",
                "# bootstrap = ...\n",
                "# Create the random grid\n",
                "#random_grid = {'n_estimators': n_estimators,\n",
                "#               'max_features': max_features,\n",
                "#               'max_depth': max_depth,\n",
                "#               'min_samples_split': min_samples_split,\n",
                "#               'min_samples_leaf': min_samples_leaf,\n",
                "#              'bootstrap': bootstrap}\n",
                "#print(random_grid)"
            ]
        },
        {
            "cell_type": "code",
            "execution_count": null,
            "metadata": {},
            "outputs": [],
            "source": []
        },
        {
            "cell_type": "code",
            "execution_count": null,
            "metadata": {},
            "outputs": [],
            "source": [
                "# Use the random grid to search for best hyperparameters\n",
                "# First create the base model to tune\n",
                "rf = RandomForestClassifier()\n",
                "# Random search of parameters, using 3 fold cross validation, \n",
                "# search across 100 different combinations, and use all available cores\n",
                "rf_random = RandomizedSearchCV(estimator = rf, param_distributions = random_grid, n_iter = 100, \n",
                "                               cv = 3, verbose=2, random_state=42, n_jobs = -1)\n",
                "rf_random.fit(X_train, y_train)"
            ]
        },
        {
            "cell_type": "code",
            "execution_count": null,
            "metadata": {},
            "outputs": [],
            "source": [
                "rf_random.best_params_"
            ]
        },
        {
            "cell_type": "code",
            "execution_count": null,
            "metadata": {},
            "outputs": [],
            "source": []
        }
    ],
    "metadata": {
        "kernelspec": {
            "display_name": "Python 3 (ipykernel)",
            "language": "python",
            "name": "python3"
        },
        "language_info": {
            "codemirror_mode": {
                "name": "ipython",
                "version": 3
            },
            "file_extension": ".py",
            "mimetype": "text/x-python",
            "name": "python",
            "nbconvert_exporter": "python",
            "pygments_lexer": "ipython3",
            "version": "3.8.10"
        }
    },
    "nbformat": 4,
    "nbformat_minor": 2
}
