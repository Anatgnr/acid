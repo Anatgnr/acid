{
    "cells": [
        {
            "cell_type": "markdown",
            "metadata": {},
            "source": [
                "# Analyse, classification et indexation des données: feuille 6\n",
                "### Classifieur bayésien"
            ]
        },
        {
            "cell_type": "markdown",
            "metadata": {},
            "source": [
                "Dans la première partie de ce TD on s’appuie sur l’exemple du cours qui consiste à séparer des poissons en deux classes : bars et saumons. La classification sera faite à partir d’une seule caractéristique (la longueur) dans un premier temps, puis à partir de deux caractéristiques (longueur et brillance). En d’autres termes, le descripteur sera d’abord de dimension 1 puis de dimension 2."
            ]
        },
        {
            "cell_type": "markdown",
            "metadata": {},
            "source": [
                "#### Données\n",
                "Dans cet exercice, nous allons travailler avec un fichier (<code>salmon_seabass.csv</code>) contenant des informations sur la longueur et la brillance de deux classes de poissons : les saumons et les bars.\n",
                "Le fichier est disponible à l'adresse : \n",
                "\n",
                "https://www.labri.fr/perso/zemmari/datasets/salmon_seabass.csv\n",
                "\n",
                "1- Chargez le fichier, et notez que la colonne <code>species</code> indique la catégorie du poisson : \n",
                "\n",
                "    - 0 : il s'agit d'un saumon \n",
                "    - 1 : il s'agit d'un bar\n"
            ]
        },
        {
            "cell_type": "code",
            "execution_count": 1,
            "metadata": {},
            "outputs": [],
            "source": [
                "import pandas as pd"
            ]
        },
        {
            "cell_type": "code",
            "execution_count": 4,
            "metadata": {},
            "outputs": [
                {
                    "data": {
                        "text/html": [
                            "<div>\n",
                            "<style scoped>\n",
                            "    .dataframe tbody tr th:only-of-type {\n",
                            "        vertical-align: middle;\n",
                            "    }\n",
                            "\n",
                            "    .dataframe tbody tr th {\n",
                            "        vertical-align: top;\n",
                            "    }\n",
                            "\n",
                            "    .dataframe thead th {\n",
                            "        text-align: right;\n",
                            "    }\n",
                            "</style>\n",
                            "<table border=\"1\" class=\"dataframe\">\n",
                            "  <thead>\n",
                            "    <tr style=\"text-align: right;\">\n",
                            "      <th></th>\n",
                            "      <th>lightness</th>\n",
                            "      <th>width</th>\n",
                            "      <th>species</th>\n",
                            "    </tr>\n",
                            "  </thead>\n",
                            "  <tbody>\n",
                            "    <tr>\n",
                            "      <th>0</th>\n",
                            "      <td>9.710457</td>\n",
                            "      <td>8.673699</td>\n",
                            "      <td>0</td>\n",
                            "    </tr>\n",
                            "    <tr>\n",
                            "      <th>1</th>\n",
                            "      <td>6.528089</td>\n",
                            "      <td>7.330887</td>\n",
                            "      <td>0</td>\n",
                            "    </tr>\n",
                            "    <tr>\n",
                            "      <th>2</th>\n",
                            "      <td>1.770695</td>\n",
                            "      <td>7.599677</td>\n",
                            "      <td>0</td>\n",
                            "    </tr>\n",
                            "    <tr>\n",
                            "      <th>3</th>\n",
                            "      <td>4.819293</td>\n",
                            "      <td>7.328198</td>\n",
                            "      <td>0</td>\n",
                            "    </tr>\n",
                            "    <tr>\n",
                            "      <th>4</th>\n",
                            "      <td>6.769638</td>\n",
                            "      <td>8.575629</td>\n",
                            "      <td>0</td>\n",
                            "    </tr>\n",
                            "    <tr>\n",
                            "      <th>...</th>\n",
                            "      <td>...</td>\n",
                            "      <td>...</td>\n",
                            "      <td>...</td>\n",
                            "    </tr>\n",
                            "    <tr>\n",
                            "      <th>1495</th>\n",
                            "      <td>14.357080</td>\n",
                            "      <td>11.631304</td>\n",
                            "      <td>1</td>\n",
                            "    </tr>\n",
                            "    <tr>\n",
                            "      <th>1496</th>\n",
                            "      <td>9.810589</td>\n",
                            "      <td>12.803998</td>\n",
                            "      <td>1</td>\n",
                            "    </tr>\n",
                            "    <tr>\n",
                            "      <th>1497</th>\n",
                            "      <td>15.620085</td>\n",
                            "      <td>13.078456</td>\n",
                            "      <td>1</td>\n",
                            "    </tr>\n",
                            "    <tr>\n",
                            "      <th>1498</th>\n",
                            "      <td>9.218976</td>\n",
                            "      <td>10.532814</td>\n",
                            "      <td>1</td>\n",
                            "    </tr>\n",
                            "    <tr>\n",
                            "      <th>1499</th>\n",
                            "      <td>6.562505</td>\n",
                            "      <td>11.463256</td>\n",
                            "      <td>1</td>\n",
                            "    </tr>\n",
                            "  </tbody>\n",
                            "</table>\n",
                            "<p>1500 rows × 3 columns</p>\n",
                            "</div>"
                        ],
                        "text/plain": [
                            "      lightness      width  species\n",
                            "0      9.710457   8.673699        0\n",
                            "1      6.528089   7.330887        0\n",
                            "2      1.770695   7.599677        0\n",
                            "3      4.819293   7.328198        0\n",
                            "4      6.769638   8.575629        0\n",
                            "...         ...        ...      ...\n",
                            "1495  14.357080  11.631304        1\n",
                            "1496   9.810589  12.803998        1\n",
                            "1497  15.620085  13.078456        1\n",
                            "1498   9.218976  10.532814        1\n",
                            "1499   6.562505  11.463256        1\n",
                            "\n",
                            "[1500 rows x 3 columns]"
                        ]
                    },
                    "execution_count": 4,
                    "metadata": {},
                    "output_type": "execute_result"
                }
            ],
            "source": [
                "df = pd.read_csv('https://www.labri.fr/perso/zemmari/datasets/salmon_seabass.csv', delimiter=';')\n",
                "df"
            ]
        },
        {
            "cell_type": "code",
            "execution_count": null,
            "metadata": {},
            "outputs": [],
            "source": []
        },
        {
            "cell_type": "markdown",
            "metadata": {},
            "source": [
                "2- Affichez le nombre de valeurs fournies pour chacune des deux classes. On les nommera <code>sizeVTSaumon</code>\n",
                "et <code>sizeVTBar</code>. "
            ]
        },
        {
            "cell_type": "code",
            "execution_count": 23,
            "metadata": {},
            "outputs": [
                {
                    "name": "stdout",
                    "output_type": "stream",
                    "text": [
                        "il y a dans ce data frame 1000 Saumons et 500 Bar ressensés soit 66.66666666666666% de Saumons et 33.33333333333333% de Bars\n"
                    ]
                }
            ],
            "source": [
                "sizeVTSaumon = (df['species'] == 0).sum()\n",
                "sizeVTBar = (df['species'] == 1).sum()\n",
                "propSaumon = sizeVTSaumon/df['species'].count()\n",
                "propBar = sizeVTBar/df['species'].count()\n",
                "print(f\"il y a dans ce data frame {sizeVTSaumon} Saumons et {sizeVTBar} Bar ressensés soit {propSaumon * 100}% de Saumons \"\n",
                "      f\"et {propBar * 100}% de Bars\")\n"
            ]
        },
        {
            "cell_type": "markdown",
            "metadata": {},
            "source": [
                "### Exercice 1. classifieur avec une seule dimension\n",
                "\n",
                "### 1.0 Préalable\n",
                "Dans un premier temps, nous allons considérer un seul descripteur : la longueur <code>width</code> des poissons. "
            ]
        },
        {
            "cell_type": "markdown",
            "metadata": {},
            "source": [
                "a- Mélanger les données."
            ]
        },
        {
            "cell_type": "code",
            "execution_count": 24,
            "metadata": {},
            "outputs": [
                {
                    "data": {
                        "text/html": [
                            "<div>\n",
                            "<style scoped>\n",
                            "    .dataframe tbody tr th:only-of-type {\n",
                            "        vertical-align: middle;\n",
                            "    }\n",
                            "\n",
                            "    .dataframe tbody tr th {\n",
                            "        vertical-align: top;\n",
                            "    }\n",
                            "\n",
                            "    .dataframe thead th {\n",
                            "        text-align: right;\n",
                            "    }\n",
                            "</style>\n",
                            "<table border=\"1\" class=\"dataframe\">\n",
                            "  <thead>\n",
                            "    <tr style=\"text-align: right;\">\n",
                            "      <th></th>\n",
                            "      <th>lightness</th>\n",
                            "      <th>width</th>\n",
                            "      <th>species</th>\n",
                            "    </tr>\n",
                            "  </thead>\n",
                            "  <tbody>\n",
                            "    <tr>\n",
                            "      <th>1116</th>\n",
                            "      <td>4.311530</td>\n",
                            "      <td>14.883711</td>\n",
                            "      <td>1</td>\n",
                            "    </tr>\n",
                            "    <tr>\n",
                            "      <th>1368</th>\n",
                            "      <td>10.442457</td>\n",
                            "      <td>13.108433</td>\n",
                            "      <td>1</td>\n",
                            "    </tr>\n",
                            "    <tr>\n",
                            "      <th>422</th>\n",
                            "      <td>6.436878</td>\n",
                            "      <td>8.037765</td>\n",
                            "      <td>0</td>\n",
                            "    </tr>\n",
                            "    <tr>\n",
                            "      <th>413</th>\n",
                            "      <td>3.705992</td>\n",
                            "      <td>5.575250</td>\n",
                            "      <td>0</td>\n",
                            "    </tr>\n",
                            "    <tr>\n",
                            "      <th>451</th>\n",
                            "      <td>6.535363</td>\n",
                            "      <td>7.202976</td>\n",
                            "      <td>0</td>\n",
                            "    </tr>\n",
                            "    <tr>\n",
                            "      <th>...</th>\n",
                            "      <td>...</td>\n",
                            "      <td>...</td>\n",
                            "      <td>...</td>\n",
                            "    </tr>\n",
                            "    <tr>\n",
                            "      <th>1130</th>\n",
                            "      <td>13.983324</td>\n",
                            "      <td>12.804519</td>\n",
                            "      <td>1</td>\n",
                            "    </tr>\n",
                            "    <tr>\n",
                            "      <th>1294</th>\n",
                            "      <td>10.582696</td>\n",
                            "      <td>12.950547</td>\n",
                            "      <td>1</td>\n",
                            "    </tr>\n",
                            "    <tr>\n",
                            "      <th>860</th>\n",
                            "      <td>6.976438</td>\n",
                            "      <td>8.914260</td>\n",
                            "      <td>0</td>\n",
                            "    </tr>\n",
                            "    <tr>\n",
                            "      <th>1459</th>\n",
                            "      <td>12.321579</td>\n",
                            "      <td>10.260943</td>\n",
                            "      <td>1</td>\n",
                            "    </tr>\n",
                            "    <tr>\n",
                            "      <th>1126</th>\n",
                            "      <td>14.469566</td>\n",
                            "      <td>12.737060</td>\n",
                            "      <td>1</td>\n",
                            "    </tr>\n",
                            "  </tbody>\n",
                            "</table>\n",
                            "<p>1500 rows × 3 columns</p>\n",
                            "</div>"
                        ],
                        "text/plain": [
                            "      lightness      width  species\n",
                            "1116   4.311530  14.883711        1\n",
                            "1368  10.442457  13.108433        1\n",
                            "422    6.436878   8.037765        0\n",
                            "413    3.705992   5.575250        0\n",
                            "451    6.535363   7.202976        0\n",
                            "...         ...        ...      ...\n",
                            "1130  13.983324  12.804519        1\n",
                            "1294  10.582696  12.950547        1\n",
                            "860    6.976438   8.914260        0\n",
                            "1459  12.321579  10.260943        1\n",
                            "1126  14.469566  12.737060        1\n",
                            "\n",
                            "[1500 rows x 3 columns]"
                        ]
                    },
                    "execution_count": 24,
                    "metadata": {},
                    "output_type": "execute_result"
                }
            ],
            "source": [
                "df_shuffled = df.sample(frac = 1, random_state = 42) #frac indique qu'il n y aura qu'un seul df en sorti\n",
                "#random_state permet de randomiser le df et 42 est un ordre qui permet de toujours recréer le meme shuffle\n",
                "df_shuffled"
            ]
        },
        {
            "cell_type": "markdown",
            "metadata": {},
            "source": [
                "b- Créer deux variables $X$ et $y$ respectivement la longueur du poisson et son espèce"
            ]
        },
        {
            "cell_type": "code",
            "execution_count": 28,
            "metadata": {},
            "outputs": [],
            "source": [
                "import matplotlib.pyplot as plt\n",
                "%matplotlib inline\n"
            ]
        },
        {
            "cell_type": "code",
            "execution_count": 27,
            "metadata": {},
            "outputs": [],
            "source": [
                "X = df['width']\n",
                "y = df['species']"
            ]
        },
        {
            "cell_type": "markdown",
            "metadata": {},
            "source": [
                "c-  Découper les données en deux parties : 80% pour l'entrainement et 20% pour le test."
            ]
        },
        {
            "cell_type": "code",
            "execution_count": null,
            "metadata": {},
            "outputs": [],
            "source": [
                "from sklearn.model_selection import train_test_split"
            ]
        },
        {
            "cell_type": "code",
            "execution_count": 29,
            "metadata": {},
            "outputs": [],
            "source": [
                "df_train = df_shuffled[:int(len(df_shuffled) * 0.8)]\n",
                "df_test = df_shuffled[int(len(df_shuffled) * 0.2):]"
            ]
        },
        {
            "cell_type": "markdown",
            "metadata": {},
            "source": [
                "#### 1.1. Classifieur ML\n",
                "\n",
                "a- Calculer les estimateurs non biaisés de la moyenne et de l'écart type pour chacune des espèces de poisson. Attention, il faut travailler sur la portion d'entraînement du dataset.  \n"
            ]
        },
        {
            "cell_type": "code",
            "execution_count": null,
            "metadata": {},
            "outputs": [],
            "source": [
                "import numpy as np"
            ]
        },
        {
            "cell_type": "code",
            "execution_count": 42,
            "metadata": {},
            "outputs": [
                {
                    "name": "stdout",
                    "output_type": "stream",
                    "text": [
                        "il y a 0.32083333333333336% de bar et 0.6791666666666667% de saumons. L'écart type est de\n"
                    ]
                }
            ],
            "source": [
                "mean = df_train['species'].mean()\n",
                "print(f\"il y a {mean}% de bar et {1-mean}% de saumons. L'écart type est de\")\n",
                "meanB = mean\n",
                "meanS = 1 - mean\n",
                "\n",
                "WmeanB = (df_train[df_train['species']== 1]['width']).mean()\n",
                "WmeanS = (df_train[df_train['species']== 0]['width']).mean()\n",
                "\n",
                "LmeanB = (df_train[df_train['lightness']== 1]['width']).mean()\n",
                "LmeanS = (df_train[df_train['lightness']== 0]['width']).mean()\n",
                "\n",
                "\n",
                "\n",
                "XtrainS = 1#taille des saumons\n",
                "XtrainB = 1#taille des Bars\n",
                "\n",
                "# -> il y a 32% de bars\n"
            ]
        },
        {
            "cell_type": "markdown",
            "metadata": {},
            "source": [
                "b- Dessiner les courbes des lois normales correspondant à la fonction de maximum de vraisemblance. Indiquer la frontière de décision. Quelle est l'espèce prédite d'un poisson de longueur 12 ?"
            ]
        },
        {
            "cell_type": "code",
            "execution_count": null,
            "metadata": {},
            "outputs": [],
            "source": [
                "import scipy.stats"
            ]
        },
        {
            "cell_type": "code",
            "execution_count": null,
            "metadata": {},
            "outputs": [],
            "source": []
        },
        {
            "cell_type": "markdown",
            "metadata": {},
            "source": []
        },
        {
            "cell_type": "markdown",
            "metadata": {},
            "source": [
                "c- Evaluer la qualité du modèle entrainé."
            ]
        },
        {
            "cell_type": "code",
            "execution_count": null,
            "metadata": {},
            "outputs": [],
            "source": [
                "from sklearn.metrics import confusion_matrix, accuracy_score"
            ]
        },
        {
            "cell_type": "code",
            "execution_count": null,
            "metadata": {},
            "outputs": [],
            "source": []
        },
        {
            "cell_type": "code",
            "execution_count": null,
            "metadata": {},
            "outputs": [],
            "source": []
        },
        {
            "cell_type": "markdown",
            "metadata": {},
            "source": [
                "#### 1.2. Classifieur MAP\n",
                "\n",
                "a- Ecrire une fonction <code>classify()</code> permettant également de classifier les poissons mais en utilisant cette fois un classifieur a posteriori."
            ]
        },
        {
            "cell_type": "code",
            "execution_count": null,
            "metadata": {},
            "outputs": [],
            "source": []
        },
        {
            "cell_type": "markdown",
            "metadata": {},
            "source": [
                "b- Evaluer ce classifieur "
            ]
        },
        {
            "cell_type": "code",
            "execution_count": null,
            "metadata": {},
            "outputs": [],
            "source": []
        },
        {
            "cell_type": "markdown",
            "metadata": {},
            "source": []
        },
        {
            "cell_type": "markdown",
            "metadata": {},
            "source": [
                "### Exercice 2. Classifieur avec deux descripteurs "
            ]
        },
        {
            "cell_type": "markdown",
            "metadata": {},
            "source": [
                "Dans cet exercice, nous allons considérer le dataset dans sa globalité. Nous allons donc baser notre classification sur les deux descripteurs <code>width</code> et <code>lightness</code>.\n",
                "\n",
                "Reprogrammer et tester les deux classifieurs vus dans l'exercice 1. Quel est l'impact du rajout du nouveau descripteur ?"
            ]
        },
        {
            "cell_type": "code",
            "execution_count": null,
            "metadata": {},
            "outputs": [],
            "source": []
        },
        {
            "cell_type": "code",
            "execution_count": null,
            "metadata": {},
            "outputs": [],
            "source": []
        },
        {
            "cell_type": "code",
            "execution_count": null,
            "metadata": {},
            "outputs": [],
            "source": []
        },
        {
            "cell_type": "code",
            "execution_count": null,
            "metadata": {},
            "outputs": [],
            "source": []
        },
        {
            "cell_type": "code",
            "execution_count": null,
            "metadata": {},
            "outputs": [],
            "source": []
        },
        {
            "cell_type": "code",
            "execution_count": null,
            "metadata": {},
            "outputs": [],
            "source": []
        },
        {
            "cell_type": "markdown",
            "metadata": {},
            "source": [
                "### Exercice 3. Bayes avec <code>sklearn</code>"
            ]
        },
        {
            "cell_type": "markdown",
            "metadata": {},
            "source": [
                "Comparer vos résultats avec ceux obtenus avec un classifieur de Bayes de la bibliothèque <code>sklearn</code>."
            ]
        },
        {
            "cell_type": "code",
            "execution_count": null,
            "metadata": {},
            "outputs": [],
            "source": []
        },
        {
            "cell_type": "code",
            "execution_count": null,
            "metadata": {},
            "outputs": [],
            "source": [
                "from sklearn.naive_bayes import GaussianNB"
            ]
        },
        {
            "cell_type": "code",
            "execution_count": null,
            "metadata": {},
            "outputs": [],
            "source": []
        },
        {
            "cell_type": "code",
            "execution_count": null,
            "metadata": {},
            "outputs": [],
            "source": []
        },
        {
            "cell_type": "code",
            "execution_count": null,
            "metadata": {},
            "outputs": [],
            "source": []
        }
    ],
    "metadata": {
        "kernelspec": {
            "display_name": "Python 3 (ipykernel)",
            "language": "python",
            "name": "python3"
        },
        "language_info": {
            "codemirror_mode": {
                "name": "ipython",
                "version": 3
            },
            "file_extension": ".py",
            "mimetype": "text/x-python",
            "name": "python",
            "nbconvert_exporter": "python",
            "pygments_lexer": "ipython3",
            "version": "3.11.2"
        },
        "vscode": {
            "interpreter": {
                "hash": "fd69f43f58546b570e94fd7eba7b65e6bcc7a5bbc4eab0408017d18902915d69"
            }
        }
    },
    "nbformat": 4,
    "nbformat_minor": 2
}
