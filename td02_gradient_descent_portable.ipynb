{
    "cells": [
        {
            "cell_type": "markdown",
            "metadata": {},
            "source": [
                "#### Université de Bordeaux,  Master Mention Informatique,  2021-2022\n",
                "\n",
                "# Analyse, classification et indexation des données: feuille 3\n",
                "### Descente de gradient"
            ]
        },
        {
            "cell_type": "markdown",
            "metadata": {},
            "source": [
                "##### Avant de commencer :\n",
                "La méthode de la descente de gradient permet de trouver un minimum local d’une fonction de ${\\mathbb R}^n$ dans ${\\mathbb R}$ . L’objectif de ce TD est de comprendre cette méthode pour pouvoir l’utiliser par la suite dans différentes applications où on cherche à minimiser un critère.\n"
            ]
        },
        {
            "cell_type": "markdown",
            "metadata": {},
            "source": [
                "Comme précédemment nous utilisons entre autres <code>numpy</code> pour manipuler vecteurs et matrices."
            ]
        },
        {
            "cell_type": "code",
            "execution_count": 1,
            "metadata": {},
            "outputs": [],
            "source": [
                "import numpy as np"
            ]
        },
        {
            "cell_type": "markdown",
            "metadata": {},
            "source": [
                "### Exercice 1. Polynôme :  calcul et dérivée"
            ]
        },
        {
            "cell_type": "markdown",
            "metadata": {},
            "source": [
                "1. Ecrivez une fonction python <code>valeurPolynome (coeff, x)</code> qui calcule la valeur du polynôme défini par le vecteur de coefficients <code>coeff</code> pour la valeur <code>x</code>. Les coefficients sont rangés dans l'ordre des puissances croissantes. Par exemple le vecteur $[1, 2, 3]$ définit le polynôme $3x^2+2x+1$. <br>Utilisez pour cela la classe <code>Polynomial</code> du module <code>numpy.polynomial</code>."
            ]
        },
        {
            "cell_type": "code",
            "execution_count": 2,
            "metadata": {},
            "outputs": [],
            "source": [
                "def valeurPolynome(coeff, x):\n",
                "    coeff = np.polynomial.Polynomial(coeff)\n",
                "    return coeff(x)\n"
            ]
        },
        {
            "cell_type": "markdown",
            "metadata": {},
            "source": [
                "2. Testez cette fonction pour différentes valeurs de <code>x</code> et pour un polynôme dont vous choisirez les coefficients. Remarquez que le paramètre <code>x</code> peut lui même être un vecteur ou une matrice."
            ]
        },
        {
            "cell_type": "code",
            "execution_count": 3,
            "metadata": {},
            "outputs": [
                {
                    "name": "stdout",
                    "output_type": "stream",
                    "text": [
                        "31.0\n",
                        "[[  631.  2461.  5491.]\n",
                        " [ 9721. 15151. 21781.]\n",
                        " [29611. 38641. 48871.]]\n"
                    ]
                }
            ],
            "source": [
                "print(valeurPolynome([1,3,6],2))\n",
                "M1 = np.array([[10, 20, 30], [40, 50, 60], [70, 80, 90]])\n",
                "M1.shape\n",
                "print(valeurPolynome([1,3,6],M1))"
            ]
        },
        {
            "cell_type": "markdown",
            "metadata": {},
            "source": [
                "3. La dérivée d’un polynôme est elle même un polynôme. Toujours en utilisant la classe <code>Polynomial</code>, écrivez une fonction python <code>derivPoly(coeff)</code> qui retourne le tableau de coefficients représentant la dérivée du polynôme défini par <code>coeff</code>. Testez."
            ]
        },
        {
            "cell_type": "code",
            "execution_count": 4,
            "metadata": {},
            "outputs": [
                {
                    "name": "stdout",
                    "output_type": "stream",
                    "text": [
                        "[2. 6.]\n"
                    ]
                }
            ],
            "source": [
                "def derivPoly(coeff):\n",
                "    var = np.polynomial.Polynomial(coeff)\n",
                "    x = var.deriv()\n",
                "    return x.coef\n",
                "\n",
                "print(derivPoly([1,2,3]))\n",
                "\n",
                "#print(derivPoly))\n",
                "\n",
                "# var = np.polynomial.Polynomial([1,2,3])\n",
                "# x = var.deriv()\n",
                "# print(x.coef)"
            ]
        },
        {
            "cell_type": "markdown",
            "metadata": {},
            "source": [
                "### Exercice 2. Descente de gradient pour trouver le minimum d’une parabole"
            ]
        },
        {
            "cell_type": "markdown",
            "metadata": {},
            "source": [
                "1. Exécutez le script python suivant : "
            ]
        },
        {
            "cell_type": "code",
            "execution_count": 5,
            "metadata": {},
            "outputs": [
                {
                    "name": "stderr",
                    "output_type": "stream",
                    "text": [
                        "Matplotlib is building the font cache; this may take a moment.\n"
                    ]
                },
                {
                    "name": "stdout",
                    "output_type": "stream",
                    "text": [
                        "Using matplotlib backend: TkAgg\n",
                        "xprec-250\n",
                        "xcurrent-200.0\n",
                        "xprec-200.0\n",
                        "xcurrent-160.0\n",
                        "xprec-160.0\n",
                        "xcurrent-128.0\n",
                        "xprec-128.0\n",
                        "xcurrent-102.4\n",
                        "xprec-102.4\n",
                        "xcurrent-81.92\n",
                        "xprec-81.92\n",
                        "xcurrent-65.536\n",
                        "xprec-65.536\n",
                        "xcurrent-52.4288\n",
                        "xprec-52.4288\n",
                        "xcurrent-41.94304\n",
                        "xprec-41.94304\n",
                        "xcurrent-33.554432000000006\n",
                        "xprec-33.554432000000006\n",
                        "xcurrent-26.843545600000006\n",
                        "xprec-26.843545600000006\n",
                        "xcurrent-21.474836480000004\n",
                        "xprec-21.474836480000004\n",
                        "xcurrent-17.179869184000005\n",
                        "xprec-17.179869184000005\n",
                        "xcurrent-13.743895347200004\n",
                        "xprec-13.743895347200004\n",
                        "xcurrent-10.995116277760003\n",
                        "xprec-10.995116277760003\n",
                        "xcurrent-8.796093022208002\n",
                        "xprec-8.796093022208002\n",
                        "xcurrent-7.036874417766401\n",
                        "xprec-7.036874417766401\n",
                        "xcurrent-5.629499534213121\n",
                        "xprec-5.629499534213121\n",
                        "xcurrent-4.503599627370496\n",
                        "xprec-4.503599627370496\n",
                        "xcurrent-3.602879701896397\n",
                        "xprec-3.602879701896397\n",
                        "xcurrent-2.8823037615171176\n",
                        "xprec-2.8823037615171176\n",
                        "xcurrent-2.305843009213694\n",
                        "xprec-2.305843009213694\n",
                        "xcurrent-1.8446744073709553\n",
                        "xprec-1.8446744073709553\n",
                        "xcurrent-1.4757395258967643\n",
                        "xprec-1.4757395258967643\n",
                        "xcurrent-1.1805916207174114\n",
                        "xprec-1.1805916207174114\n",
                        "xcurrent-0.9444732965739291\n",
                        "xprec-0.9444732965739291\n",
                        "xcurrent-0.7555786372591433\n",
                        "xprec-0.7555786372591433\n",
                        "xcurrent-0.6044629098073147\n",
                        "xprec-0.6044629098073147\n",
                        "xcurrent-0.48357032784585174\n",
                        "xprec-0.48357032784585174\n",
                        "xcurrent-0.3868562622766814\n",
                        "xprec-0.3868562622766814\n",
                        "xcurrent-0.30948500982134514\n",
                        "xprec-0.30948500982134514\n",
                        "xcurrent-0.2475880078570761\n",
                        "xprec-0.2475880078570761\n",
                        "xcurrent-0.1980704062856609\n",
                        "xprec-0.1980704062856609\n",
                        "xcurrent-0.15845632502852872\n",
                        "xprec-0.15845632502852872\n",
                        "xcurrent-0.12676506002282298\n",
                        "xprec-0.12676506002282298\n",
                        "xcurrent-0.10141204801825839\n",
                        "xprec-0.10141204801825839\n",
                        "xcurrent-0.08112963841460671\n",
                        "xprec-0.08112963841460671\n",
                        "xcurrent-0.06490371073168537\n",
                        "xprec-0.06490371073168537\n",
                        "xcurrent-0.0519229685853483\n",
                        "xprec-0.0519229685853483\n",
                        "xcurrent-0.04153837486827864\n",
                        "xprec-0.04153837486827864\n",
                        "xcurrent-0.03323069989462291\n",
                        "-0.03323069989462291\n"
                    ]
                }
            ],
            "source": [
                "%matplotlib \n",
                "import matplotlib.pyplot as plt\n",
                "\n",
                "def parabole(x):\n",
                "    return x * x\n",
                "\n",
                "x = np.linspace(-300,300,600)\n",
                "y = [parabole(i) for i in x]\n",
                "\n",
                "epsilon = 0.01 #regle la convergeance\n",
                "nu = 0.1 #pas d'apprentissage\n",
                "\n",
                "plt.plot(x,y,'g')\n",
                "\n",
                "x0=250 #on part de la droite\n",
                "xcurrent = x0 - 2*x0 #on déclare une variable a l'opposé de x0\n",
                "xprec = x0 #on stock la nouvelle valeur de x0\n",
                "\n",
                "plt.plot(x0,parabole(x0),'ok')\n",
                "\n",
                "\n",
                "while(abs(xprec - xcurrent) > epsilon): #condition qui va arreter la convergence\n",
                "    xprec  = xcurrent #on stock xprec comme xpcurrent\n",
                "    print(\"xprec\" + str(xprec))\n",
                "    xcurrent = xprec - nu*2*xprec #on défini la nouvelle valeur de xcurrent\n",
                "    print(\"xcurrent\" + str(xcurrent))\n",
                "    plt.plot(xcurrent,parabole(xcurrent),'ob') #creer un point\n",
                "    # plt.pause(1) -> peu utile\n",
                "    \n",
                "plt.plot(xcurrent,parabole(xcurrent),'xr')\n",
                "print(xcurrent)"
            ]
        },
        {
            "cell_type": "markdown",
            "metadata": {},
            "source": []
        },
        {
            "cell_type": "markdown",
            "metadata": {},
            "source": [
                "2. Retrouvez dans le code les étapes de l’algorithme de descente du gradient en repérant bien l'utilisation de la dérivée.\n",
                "3. Testez en modifiant l’initialisation de la position du minimum.\n",
                "4. Comment peut-on obtenir une estimation plus précise de la position du minimum?\n",
                "5. Testez en modifiant la variable <code>nu</code> par une autre valeur constante inférieure à 1, par exemple <code> nu = 0.6</code>.\n",
                "Que se passe-t-il si la valeur de nu est fixée à 1 ? Est-ce spécifique à la fonction choisie ?\n",
                "6. Comparez la version suivante du script avec la précédente"
            ]
        },
        {
            "cell_type": "code",
            "execution_count": 6,
            "metadata": {},
            "outputs": [
                {
                    "name": "stdout",
                    "output_type": "stream",
                    "text": [
                        "Using matplotlib backend: TkAgg\n",
                        "nu vaut: 0.9102392266268375\n",
                        "nu vaut: 0.7213475204444817\n",
                        "nu vaut: 0.6213349345596119\n",
                        "nu vaut: 0.5581106265512472\n",
                        "nu vaut: 0.5138983423697507\n",
                        "nu vaut: 0.48089834696298783\n"
                    ]
                },
                {
                    "data": {
                        "text/plain": [
                            "[<matplotlib.lines.Line2D at 0x7fb029172a50>]"
                        ]
                    },
                    "execution_count": 6,
                    "metadata": {},
                    "output_type": "execute_result"
                }
            ],
            "source": [
                "%matplotlib\n",
                "import matplotlib.pyplot as plt\n",
                "\n",
                "def parabole(x):\n",
                "    return x * x\n",
                "\n",
                "x = np.linspace(-300,300,600)\n",
                "y = [parabole(i) for i in x]\n",
                "\n",
                "epsilon = 0.1\n",
                "attenuation = 3\n",
                "\n",
                "plt.plot(x,y,'g')\n",
                "\n",
                "x0=250\n",
                "xcurrent = x0 - 2*x0\n",
                "xprec = x0\n",
                "\n",
                "plt.plot(x0,parabole(x0),'ok')\n",
                "\n",
                "while(abs(xprec - xcurrent) > epsilon):\n",
                "    xprec  = xcurrent\n",
                "    nu = 1/np.log(attenuation)\n",
                "    print(\"nu vaut: \" +str(nu))\n",
                "    attenuation = attenuation+1\n",
                "    xcurrent = xprec - nu*2*xprec\n",
                "    plt.plot(xcurrent,parabole(xcurrent),'ob')\n",
                "    plt.pause(1)\n",
                "plt.plot(xcurrent,parabole(xcurrent),'xr')\n"
            ]
        },
        {
            "cell_type": "markdown",
            "metadata": {},
            "source": [
                "7. Comment évolue la variable <code>nu</code> au fur et à mesure des itérations ? Quel est l'intérêt de procéder ainsi?\n"
            ]
        },
        {
            "cell_type": "markdown",
            "metadata": {},
            "source": [
                "### Exercice 3. Descente de gradient pour trouver le minimum d’un polynôme"
            ]
        },
        {
            "cell_type": "markdown",
            "metadata": {},
            "source": [
                "1. On choisit comme exemple le polynôme $30 − 61x + 41x^2 − 11x^3 + x^4$ . Ecrivez un script python\n",
                "qui affiche ce polynôme entre 0 et 6 et qui montre les étapes de la descente de gradient à partir de la valeur initiale 5."
            ]
        },
        {
            "cell_type": "code",
            "execution_count": 18,
            "metadata": {},
            "outputs": [
                {
                    "name": "stdout",
                    "output_type": "stream",
                    "text": [
                        "Using matplotlib backend: TkAgg\n"
                    ]
                }
            ],
            "source": [
                "import math\n",
                "%matplotlib\n",
                "import matplotlib.pyplot as plt\n",
                "def parabole(x):\n",
                "    return 30 - 61*x + 41*math.pow(x,2) - 11*math.pow(x,3) + math.pow(x,4)\n",
                "def script():\n",
                "    x = np.linspace(-300,300,600)\n",
                "    y = [parabole(i) for i in x]\n",
                "\n",
                "    epsilon = 0.1\n",
                "    attenuation = 3\n",
                "\n",
                "    plt.plot(x,y,'g')\n",
                "\n",
                "    x0=5\n",
                "    xcurrent = x0 - 2*x0\n",
                "    xprec = x0\n",
                "\n",
                "    plt.plot(x0,parabole(x0),'ok')\n",
                "\n",
                "    while(abs(xprec - xcurrent) > epsilon):\n",
                "        xprec  = xcurrent\n",
                "        #nu = 1/np.log(attenuation)\n",
                "        print(\"nu vaut: \" +str(nu))\n",
                "        attenuation = attenuation+1\n",
                "        xcurrent = xprec - nu*2*xprec\n",
                "        plt.plot(xcurrent,parabole(xcurrent),'ob')\n",
                "        plt.pause(1)\n",
                "    plt.plot(xcurrent,parabole(xcurrent),'xr')\n"
            ]
        },
        {
            "cell_type": "markdown",
            "metadata": {},
            "source": [
                "\n",
                "2. Changez la valeur initiale à 0.\n",
                "3. Faites varier les paramètres de la descente de gradient (taux d'apprentissage, test d’arrêt) et commentez le\n",
                "comportement de l’algorithme."
            ]
        },
        {
            "cell_type": "markdown",
            "metadata": {},
            "source": [
                "### Exercice 4. Descente de gradient pour trouver le minimum d’une surface"
            ]
        },
        {
            "cell_type": "markdown",
            "metadata": {},
            "source": [
                "1. On choisit comme exemple la fonction définie par $f(x,y) = (x−1)(x−2)+(y+3)(y+4)$. On visualise une partie de la surface correspondante avec le code ci-dessous. Quels sont les intervalles de variation de $x$ et $y$ dans ce code? Quelles sont les coordonnées du minimum ?"
            ]
        },
        {
            "cell_type": "code",
            "execution_count": 16,
            "metadata": {},
            "outputs": [],
            "source": [
                "from mpl_toolkits.mplot3d import Axes3D\n",
                "\n",
                "def f(x,y):\n",
                "    return (x - 1) * (x - 2) + (y + 3) * (y + 4)\n",
                "\n",
                "x = np.linspace(-8, 8, 160) \n",
                "y = np.linspace(-8, 8, 160)\n",
                "x, y = np.meshgrid(x, y)\n",
                "\n",
                "z = f(x, y)\n",
                "\n",
                "ax = Axes3D(plt.figure())\n",
                "\n",
                "ax.plot_surface(x, y, z) \n",
                "plt.show()\n"
            ]
        },
        {
            "cell_type": "markdown",
            "metadata": {},
            "source": [
                "2. Ecrivez une fonction python <code>animationDescenteSurface(pdep)</code> qui affiche cette surface et qui montre les étapes de la descente de gradient à partir du point initial <code>pdep</code> donné comme vecteur de deux coordonnées. Pour afficher un point 3D vous utiliserez la fonction <code>scatter</code> de <code>Axes3D</code>."
            ]
        },
        {
            "cell_type": "code",
            "execution_count": null,
            "metadata": {},
            "outputs": [],
            "source": []
        },
        {
            "cell_type": "markdown",
            "metadata": {},
            "source": [
                "3. Testez avec comme point initial <code>pdep = (1, -5)</code> puis <code>(-1, -3)</code>, <code>(-1, -5)</code> et <code>(2, -4)</code>."
            ]
        },
        {
            "cell_type": "code",
            "execution_count": null,
            "metadata": {},
            "outputs": [],
            "source": []
        },
        {
            "cell_type": "code",
            "execution_count": null,
            "metadata": {},
            "outputs": [],
            "source": []
        },
        {
            "cell_type": "code",
            "execution_count": null,
            "metadata": {},
            "outputs": [],
            "source": []
        },
        {
            "cell_type": "code",
            "execution_count": null,
            "metadata": {},
            "outputs": [],
            "source": []
        },
        {
            "cell_type": "markdown",
            "metadata": {},
            "source": [
                "### Exercice 5. Application : régression linéaire\n",
                "\n",
                "On veut calculer la droite de régression linéaire correspondant à un nuage de\n",
                "points 2D $\\{(x_1, y_1), \\cdots , (x_m, y_m)\\}$, c'est-à-dire la droite $y = \\theta_1x + \\theta_0$ qui minimise le critère suivant : \n",
                "$$\n",
                "\\frac 1 m \\sum \\left( \\theta_0 + \\theta_1 x_i - y_i\\right)^2.\n",
                "$$\n",
                "\n",
                "Autrement dit, on cherche à minimiser la moyenne des distances verticales entre chaque point du nuage et la droite. <br>\n",
                "Utilisez une descente de gradient (en 2D) pour trouver les caractéristiques $\\theta_0$ et $\\theta_1$ de la droite de régression linéaire correspondant à un nuage de points. Pour générer un nuage de point, vous pouvez utiliser le code suivant :"
            ]
        },
        {
            "cell_type": "code",
            "execution_count": 17,
            "metadata": {},
            "outputs": [
                {
                    "data": {
                        "text/plain": [
                            "[<matplotlib.lines.Line2D at 0x7fb02874ae10>]"
                        ]
                    },
                    "execution_count": 17,
                    "metadata": {},
                    "output_type": "execute_result"
                }
            ],
            "source": [
                "from random import random\n",
                "m = 40\n",
                "sizeNoise = 10\n",
                "x = [random()*50 + 5 for i in range(m)]\n",
                "noise = [random() * sizeNoise for i in range(m)] # ou np.rand(m,1) * sizeNoise\n",
                "pente = 0.8\n",
                "b =  20\n",
                "y = [b + pente*x[i] + noise[i] for i in range(m)] \n",
                "\n",
                "plt.plot(x,y,'bx')"
            ]
        },
        {
            "cell_type": "code",
            "execution_count": 28,
            "metadata": {},
            "outputs": [],
            "source": [
                "def grad(Teta, x, y):\n",
                "    i = 0\n",
                "    j = 0\n",
                "    s0 = 0\n",
                "    s1 = 0\n",
                "    #n est la taille du tableau x \n",
                "    n = np.size(x)\n",
                "    for i in range(n):\n",
                "        s0 += (Teta[0] + Teta[1])*(x[i] - y[i])\n",
                "    for j in range(n):\n",
                "        s1 += x[i]*(Teta[0] + Teta[1])*(x[i] - y[i])\n",
                "    Teta[0] = (2/n) * s0 \n",
                "    Teta[1] = (2/n) * s1 \n",
                "    return Teta\n"
            ]
        },
        {
            "cell_type": "code",
            "execution_count": null,
            "metadata": {},
            "outputs": [],
            "source": [
                "def regLin(x, y):\n",
                "    #vecteurs initiaux\n",
                "    v0 = 20\n",
                "    Teta = [0,0]\n",
                "    Vcurrent = v0 - 2*v0\n",
                "    Vprec = v0\n",
                "    # parametres de la descente\n",
                "    nu = 0.9\n",
                "    epsilon = 0.01\n",
                "    # loop d'évolution\n",
                "    while(nu > epsilon):\n",
                "        Vcurrent = Vprec - nu*grad(f, Vcurrent)"
            ]
        }
    ],
    "metadata": {
        "kernelspec": {
            "display_name": "Python 3",
            "language": "python",
            "name": "python3"
        },
        "language_info": {
            "codemirror_mode": {
                "name": "ipython",
                "version": 3
            },
            "file_extension": ".py",
            "mimetype": "text/x-python",
            "name": "python",
            "nbconvert_exporter": "python",
            "pygments_lexer": "ipython3",
            "version": "3.11.2"
        }
    },
    "nbformat": 4,
    "nbformat_minor": 2
}
