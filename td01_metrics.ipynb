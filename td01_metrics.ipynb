{
    "cells": [
        {
            "attachments": {},
            "cell_type": "markdown",
            "id": "eda022d9-b5f3-42cf-84de-9543ba21c25f",
            "metadata": {},
            "source": [
                "#### Université de Bordeaux,  Master Mention Informatique\n",
                "\n",
                "# Analyse, classification et indexation des données: feuille 2\n",
                "### Introduction : métriques d'évaluation"
            ]
        },
        {
            "attachments": {},
            "cell_type": "markdown",
            "id": "4fb5eda1-7056-4ae3-b27c-3fb5aec67bba",
            "metadata": {},
            "source": [
                "### Présentation\n",
                "\n",
                "L'objectif de ce TD est de comprendre les métriques d'évaluation des modèles de machine learning. "
            ]
        },
        {
            "attachments": {},
            "cell_type": "markdown",
            "id": "373820f8-2064-4d75-81cc-5c31fda8e339",
            "metadata": {},
            "source": [
                "### Exercice 1.\n",
                "On dispose d'un corpus de données $D = (x_i, y_i)_{1\\leq i \\leq n}$. On partitionne alors $D$ en deux ensembles :\n",
                "$$\n",
                "D = Train \\cup Test\n",
                "$$\n",
                "Le sous ensemble $Train$ est alors utilisé pour entrainer un modèle $M$ alors que $Test$ est lui utilisé pour tester $M$\n",
                "\n",
                "1. Rappeler la définition de la matrice de confusion. \n",
                "    - Une matrice de confusion est une matrice permettant de reperer facilement si un algorithme de classification commet des erreurs, et combien.\n",
                "\n",
                "2. On se limite au cas d'une classification binaire. Donner, en fonction du contenu de la matrice de confusion les expressions de l'$accuracy$, la $precision$, le $recall$ et le $F_1 score$.\n",
                "    - Soit une matrice   TP    |   FN\n",
                "                        FP    |   TN\n",
                "    La formule du Rappel est: TP/(TP + FN)\n",
                "    La formule de Précision est: TP/(TP + FP)\n",
                "    La formule du score est quant à elle: 2 × (Précision × Rappel) / (Précision + Rappel)\n"
            ]
        },
        {
            "attachments": {},
            "cell_type": "markdown",
            "id": "98e11df6-ac02-4a5d-8155-ce2dee2ddfc3",
            "metadata": {},
            "source": [
                "### Exercice 2.\n",
                "\n",
                "On dispose de données (images IRM) relatives à des personnes atteintes (ou pas) de cancer. On entraîne alors un modèle pour détecter d'éventuelles cellules cancereuses sur les images. Celles-ci sont alors classifiées $1$ pour les images positives (patient atteint de cancer) et $0$ pour les images négatives.\n",
                "\n",
                "On a ensuite testé le modèle sur des données d'autres patients pour lesquels le diagnostic est connu. Le résultat peut être récupéré à l'adresse \n",
                "\n",
                "<code>https://www.labri.fr/perso/zemmari/datasets/y_test_pred.csv</code>"
            ]
        },
        {
            "attachments": {},
            "cell_type": "markdown",
            "id": "f6454ce9-8f4f-4ac9-946d-2edb06d3436a",
            "metadata": {},
            "source": [
                "#### Question 1.\n",
                "\n",
                "Ecrire le code nécessaire pour charger le contenu du fichier dans un <code>DataFrame y</code>. On peut récupérer les premières lignes de <code> y </code> avec <code>y.head()</code>"
            ]
        },
        {
            "cell_type": "code",
            "execution_count": 1,
            "id": "7a7b7bd9-d5b8-48f5-bf5f-c3b6b1720161",
            "metadata": {},
            "outputs": [
                {
                    "name": "stdout",
                    "output_type": "stream",
                    "text": [
                        "     vt  vp\n",
                        "0     1   1\n",
                        "1     0   1\n",
                        "2     0   1\n",
                        "3     1   1\n",
                        "4     1   1\n",
                        "..   ..  ..\n",
                        "508   0   1\n",
                        "509   1   1\n",
                        "510   1   1\n",
                        "511   0   1\n",
                        "512   0   1\n",
                        "\n",
                        "[513 rows x 2 columns]\n"
                    ]
                }
            ],
            "source": [
                "import pandas as pd\n",
                "y = pd.read_csv('https://www.labri.fr/perso/zemmari/datasets/y_test_pred.csv')\n",
                "print(y)"
            ]
        },
        {
            "attachments": {},
            "cell_type": "markdown",
            "id": "fd037cdf",
            "metadata": {},
            "source": [
                "Tester le code suivant pour apprendre comment accéder à une colonne d'un DataFrame et la transformer en numpy array."
            ]
        },
        {
            "cell_type": "code",
            "execution_count": 10,
            "id": "afd2772e",
            "metadata": {},
            "outputs": [
                {
                    "data": {
                        "text/plain": [
                            "0      1\n",
                            "1      1\n",
                            "2      1\n",
                            "3      1\n",
                            "4      1\n",
                            "      ..\n",
                            "508    1\n",
                            "509    1\n",
                            "510    1\n",
                            "511    1\n",
                            "512    1\n",
                            "Name: vp, Length: 513, dtype: int64"
                        ]
                    },
                    "execution_count": 10,
                    "metadata": {},
                    "output_type": "execute_result"
                }
            ],
            "source": [
                "y_vt = y[\"vt\"]\n",
                "y_vt\n",
                "y_vp = y[\"vp\"]\n",
                "y_vp"
            ]
        },
        {
            "cell_type": "code",
            "execution_count": 14,
            "id": "ed5be039",
            "metadata": {},
            "outputs": [
                {
                    "data": {
                        "text/plain": [
                            "array([1, 1, 1, 1, 1, 1, 1, 1, 1, 1, 1, 0, 1, 1, 1, 1, 1, 1, 1, 1, 1, 1,\n",
                            "       1, 1, 1, 1, 1, 1, 1, 0, 1, 1, 1, 1, 1, 1, 1, 1, 1, 1, 1, 1, 1, 1,\n",
                            "       1, 1, 1, 1, 1, 1, 1, 1, 1, 1, 1, 1, 1, 1, 1, 1, 1, 1, 1, 1, 1, 1,\n",
                            "       1, 1, 1, 1, 1, 1, 1, 1, 1, 1, 1, 1, 1, 1, 1, 1, 1, 1, 1, 1, 1, 1,\n",
                            "       1, 1, 1, 1, 1, 1, 1, 1, 1, 1, 1, 1, 1, 1, 1, 1, 1, 1, 1, 1, 1, 1,\n",
                            "       1, 1, 1, 1, 1, 1, 1, 1, 1, 1, 1, 1, 1, 1, 1, 1, 1, 1, 1, 1, 1, 1,\n",
                            "       1, 1, 1, 1, 1, 1, 1, 1, 1, 1, 1, 1, 1, 1, 1, 1, 1, 1, 1, 1, 1, 1,\n",
                            "       1, 1, 1, 1, 1, 1, 1, 1, 1, 1, 1, 1, 1, 1, 1, 1, 1, 1, 1, 1, 1, 1,\n",
                            "       1, 1, 1, 1, 1, 1, 1, 1, 1, 1, 1, 1, 1, 1, 1, 1, 1, 1, 1, 1, 1, 1,\n",
                            "       1, 1, 1, 1, 1, 1, 1, 1, 1, 1, 1, 1, 1, 1, 1, 1, 1, 1, 1, 1, 1, 1,\n",
                            "       1, 1, 1, 1, 1, 1, 1, 1, 1, 1, 1, 1, 1, 1, 1, 1, 1, 1, 1, 1, 1, 1,\n",
                            "       1, 1, 1, 1, 1, 1, 1, 1, 1, 1, 1, 1, 1, 1, 1, 1, 1, 1, 1, 1, 1, 1,\n",
                            "       1, 1, 1, 1, 1, 1, 1, 1, 1, 1, 1, 1, 1, 1, 1, 1, 1, 1, 1, 1, 1, 1,\n",
                            "       1, 1, 1, 1, 1, 1, 1, 1, 1, 1, 1, 1, 1, 1, 1, 1, 1, 1, 1, 1, 1, 1,\n",
                            "       1, 1, 1, 1, 1, 1, 1, 1, 1, 1, 1, 1, 1, 1, 1, 1, 1, 1, 1, 1, 1, 1,\n",
                            "       1, 1, 1, 0, 1, 1, 1, 1, 1, 1, 1, 1, 1, 1, 1, 1, 1, 1, 1, 1, 1, 1,\n",
                            "       1, 1, 1, 1, 1, 1, 1, 1, 1, 1, 1, 1, 1, 1, 1, 1, 1, 1, 1, 1, 0, 1,\n",
                            "       1, 1, 1, 1, 1, 1, 1, 1, 1, 1, 1, 1, 1, 1, 1, 1, 1, 0, 1, 1, 1, 1,\n",
                            "       1, 1, 1, 1, 1, 1, 1, 1, 1, 1, 1, 1, 1, 1, 1, 1, 0, 1, 1, 1, 1, 1,\n",
                            "       1, 1, 1, 1, 1, 1, 1, 1, 1, 1, 1, 1, 1, 1, 1, 1, 1, 1, 1, 1, 1, 1,\n",
                            "       1, 1, 1, 1, 1, 1, 1, 1, 1, 1, 1, 1, 1, 1, 1, 1, 1, 1, 1, 1, 1, 1,\n",
                            "       1, 1, 1, 1, 1, 1, 1, 1, 1, 1, 1, 1, 1, 1, 1, 1, 1, 1, 1, 1, 1, 1,\n",
                            "       1, 1, 1, 1, 1, 1, 1, 1, 1, 1, 1, 1, 1, 1, 1, 1, 1, 1, 1, 1, 1, 1,\n",
                            "       1, 1, 1, 1, 1, 1, 1], dtype=int64)"
                        ]
                    },
                    "execution_count": 14,
                    "metadata": {},
                    "output_type": "execute_result"
                }
            ],
            "source": [
                "import numpy as np\n",
                "np.array(y_vt)\n",
                "np.array(y_vp)"
            ]
        },
        {
            "attachments": {},
            "cell_type": "markdown",
            "id": "f7c8c4f6-9a1e-443d-b9e8-33b1afc77529",
            "metadata": {},
            "source": [
                "#### Question 2.\n",
                "Ecrire une fonction <code>compute_confusion_matrix(y_vt, y_vp)</code> permettant de calculer la matrice de confusion entre la vérité terrain <code>y_vt</code> et les prédictions <code>y_vp</code> (données dans le format pandas). La matrice de confusion calculée sera un numpy array 2x2.\n",
                "\n",
                "*Indication :*  la fonction <code>logical_and(exp1, exp2)</code> du package <code>numpy</code> retourne <code>1</code> si les deux expressions sont vraies.\n"
            ]
        },
        {
            "cell_type": "code",
            "execution_count": 23,
            "id": "b63f6265-dc0f-4e13-94df-b6bc63b19b5d",
            "metadata": {},
            "outputs": [],
            "source": [
                "def compute_confusion_matrix(y_vt, y_vp):\n",
                "    conf = np.array([[0,0],[0,0]])\n",
                "    i = 0\n",
                "    while(i < np.size(y_vt)):\n",
                "        if np.logical_and(y_vt[i], y_vp[i]) == 1:\n",
                "            conf[0,0] += 1 #Vrai positif (predit vrai et resultat vrai)\n",
                "        elif y_vt[i] > y_vp[i]:\n",
                "            conf[0,1]+= 1 #Faux negatif (predit faux alors que vrai)\n",
                "        elif y_vt[i] < y_vp[i]:\n",
                "            conf[1,0]+= 1 #Faux positif (predit vrai alors que faux)\n",
                "        else:\n",
                "            conf[1,1] += 1 #Vrai negatif (predit faux et resultat faux)\n",
                "        i += 1\n",
                "    return conf\n"
            ]
        },
        {
            "attachments": {},
            "cell_type": "markdown",
            "id": "bf429ccb-19fe-4e9f-b720-f4bd91d5b4e9",
            "metadata": {},
            "source": [
                "Calculer la matrice de confusions des données ci-dessus"
            ]
        },
        {
            "cell_type": "code",
            "execution_count": 24,
            "id": "b35f4331-6835-4508-b96b-a4ef5455fb03",
            "metadata": {},
            "outputs": [
                {
                    "data": {
                        "text/plain": [
                            "array([[317,   3],\n",
                            "       [190,   3]])"
                        ]
                    },
                    "execution_count": 24,
                    "metadata": {},
                    "output_type": "execute_result"
                }
            ],
            "source": [
                "compute_confusion_matrix(y_vt, y_vp)"
            ]
        },
        {
            "cell_type": "code",
            "execution_count": 25,
            "id": "88ea4284-9e47-4b77-a26a-42811a1fb14b",
            "metadata": {},
            "outputs": [],
            "source": [
                "def compute_metrics(confusion_matrix):\n",
                "    TP = confusion_matrix[0,0]\n",
                "    FP = confusion_matrix[1,0]\n",
                "    FN = confusion_matrix[0,1]\n",
                "    TN = confusion_matrix[1,1]\n",
                "    output = np.array([0,0,0])\n",
                "    output[0] = TP/(TP + FP) #accuracy\n",
                "    output[1] = TP / (TP + FN) #recall\n",
                "    output[2] = 2 * (output[0] * output[1]) / (output[0] + output[1]) #score\n",
                "    return output\n",
                "    #print(\"score: \" + score + \"\\n\" + \"recall: \" + recall + \"\\n\" + \"accuracy: \" + accuracy)"
            ]
        },
        {
            "attachments": {},
            "cell_type": "markdown",
            "id": "6c54ba4d-0f83-4e7e-beb1-f7c466ce5a1b",
            "metadata": {},
            "source": [
                "#### Question 3.\n",
                "Ecrire une fonction <code>compute_metrics(confusion_matrix)</code> permettant de calculer $accuracy$, la $precision$, le $recall$ et le $F_1 score$ à partir de la matrice de confusion donnée sous la forme d'un numpy array 2x2."
            ]
        },
        {
            "attachments": {},
            "cell_type": "markdown",
            "id": "f43c15a7-091a-4998-bdc6-f12e39479969",
            "metadata": {},
            "source": [
                "Utiliser la fonction pour évaluer le modèle. Qu'en pensez-vous ? Donner une interprétation de chacune des métriques."
            ]
        },
        {
            "cell_type": "code",
            "execution_count": null,
            "id": "48e976e4-44de-4249-9308-365c886dec25",
            "metadata": {},
            "outputs": [],
            "source": [
                "import pandas as pd\n",
                "import numpy as np\n",
                "\n",
                "def test(matrice):\n",
                "    y = pd.read_csv('https://www.labri.fr/perso/zemmari/datasets/y_test_pred.csv')\n",
                "    y_vt = y[\"vt\"]\n",
                "    y_vp = y[\"vp\"]\n",
                "    np.array(y_vt)\n",
                "    np.array(y_vp)\n",
                "    ccm = compute_confusion_matrix(y_vt, y_vp)\n",
                "    print(compute_metrics(ccm))\n",
                "    "
            ]
        }
    ],
    "metadata": {
        "kernelspec": {
            "display_name": "Python 3 (ipykernel)",
            "language": "python",
            "name": "python3"
        },
        "language_info": {
            "codemirror_mode": {
                "name": "ipython",
                "version": 3
            },
            "file_extension": ".py",
            "mimetype": "text/x-python",
            "name": "python",
            "nbconvert_exporter": "python",
            "pygments_lexer": "ipython3",
            "version": "3.11.4"
        }
    },
    "nbformat": 4,
    "nbformat_minor": 5
}
