{
    "cells": [
        {
            "cell_type": "code",
            "execution_count": null,
            "metadata": {},
            "outputs": [],
            "source": []
        },
        {
            "cell_type": "markdown",
            "metadata": {},
            "source": [
                "#### Université de Bordeaux,  Master Mention Informatique\n",
                "\n",
                "# Analyse, classification et indexation des données: feuille 5\n",
                "\n",
                "# Machine Learning\n",
                "\n",
                "#### k-Nearest Neighbors \n"
            ]
        },
        {
            "cell_type": "markdown",
            "metadata": {},
            "source": [
                "\n",
                "## Exercice 1.  k-Nearest Neighbors (from scratch)\n",
                "\n",
                "Dans ce premier exercice, nous allons coder un algorithme de classification : le $k$-nn."
            ]
        },
        {
            "cell_type": "markdown",
            "metadata": {},
            "source": [
                "On commence par importer les modules python :\n",
                "\n",
                "- numpy : pour des calculs (algèbre linéaire, etc)\n",
                "- pandas : pour la lecture des fichiers csv, etc "
            ]
        },
        {
            "cell_type": "code",
            "execution_count": null,
            "metadata": {},
            "outputs": [],
            "source": [
                "import numpy as np\n",
                "import pandas as pa\n",
                "\n",
                "import warnings\n",
                "warnings.filterwarnings(\"ignore\")"
            ]
        },
        {
            "cell_type": "markdown",
            "metadata": {},
            "source": [
                "#### Etape 1 : Distance euclidienne"
            ]
        },
        {
            "cell_type": "markdown",
            "metadata": {},
            "source": [
                "1. Ecrire une fonction pour calculer la distance euclidienne entre deux points (représentés par des np.array). Attention, le tableau donné comme deuxième paramètre de la fonction contient, en dernière position, la classe de l'élément qu'il représente. Cette information n'est pas utilisée pour le calcul de distance."
            ]
        },
        {
            "cell_type": "code",
            "execution_count": null,
            "metadata": {},
            "outputs": [],
            "source": []
        },
        {
            "cell_type": "markdown",
            "metadata": {},
            "source": [
                "Tester votre fonction. Les instructions suivantes devront produire le résultat ci-dessous."
            ]
        },
        {
            "cell_type": "code",
            "execution_count": null,
            "metadata": {},
            "outputs": [],
            "source": [
                "u = np.array([1, 2, 3])\n",
                "v = np.array([1, 2, 3, 1])\n",
                "w = np.array([2, 3, 4, 0])\n",
                "print(euclidean(u, v)) # 0.0\n",
                "print(euclidean(u, w)) # 1.7320508075688772"
            ]
        },
        {
            "cell_type": "markdown",
            "metadata": {},
            "source": [
                "2. Ecrire une fonction pour calculer les distances d'un point à tous les autres points d'un dataset (matrice numpy - voir exemple)"
            ]
        },
        {
            "cell_type": "code",
            "execution_count": null,
            "metadata": {},
            "outputs": [],
            "source": []
        },
        {
            "cell_type": "markdown",
            "metadata": {},
            "source": [
                "Tester votre fonction. Les instructions suivantes devront produire le résultat ci-dessous."
            ]
        },
        {
            "cell_type": "code",
            "execution_count": null,
            "metadata": {},
            "outputs": [],
            "source": [
                "u = np.array([1, 2, 3])\n",
                "dataset = np.array([[1, 2, 3, 0],\n",
                "                    [4, 5, 6, 0],\n",
                "                    [2, 3, 4, 1],\n",
                "                    [3, 4, 5, 1]])\n",
                "dist = distances(u, dataset)\n",
                "print(dist) # [0.0, 5.196152422706632, 1.7320508075688772, 3.4641016151377544]"
            ]
        },
        {
            "cell_type": "markdown",
            "metadata": {},
            "source": [
                "#### Etape 2 : Récupérer la liste des $k$ voisins les plus proches"
            ]
        },
        {
            "cell_type": "markdown",
            "metadata": {},
            "source": [
                "1. Ecrire une fonction <code>voisins</code> permettant de récupérer dans un dataset la liste des $k$-voisins les plus proches d'un point donné."
            ]
        },
        {
            "cell_type": "code",
            "execution_count": null,
            "metadata": {},
            "outputs": [],
            "source": []
        },
        {
            "cell_type": "markdown",
            "metadata": {},
            "source": [
                "Tester votre fonction. Les instructions suivantes devront produire le résultat ci-dessous. "
            ]
        },
        {
            "cell_type": "code",
            "execution_count": null,
            "metadata": {},
            "outputs": [],
            "source": [
                "u = np.array([1, 2, 3])\n",
                "dataset = np.array([[1, 2, 3, 0],\n",
                "                    [4, 5, 6, 0],\n",
                "                    [2, 3, 4, 1],\n",
                "                    [3, 4, 5, 1]])\n",
                "\n",
                "print(voisins(u, dataset, 2)) # [array([1, 2, 3, 0]), array([2, 3, 4, 1])]"
            ]
        },
        {
            "cell_type": "markdown",
            "metadata": {},
            "source": [
                "#### Etape 3 : Faire des prédictions"
            ]
        },
        {
            "cell_type": "markdown",
            "metadata": {},
            "source": [
                "1. Ecrire une fonction <code>classifier()</code> retournant la classe d'un élément $u$."
            ]
        },
        {
            "cell_type": "code",
            "execution_count": null,
            "metadata": {},
            "outputs": [],
            "source": []
        },
        {
            "cell_type": "markdown",
            "metadata": {},
            "source": [
                "Tester votre fonction. Les instructions suivantes devront produire le résultat ci-dessous. "
            ]
        },
        {
            "cell_type": "code",
            "execution_count": null,
            "metadata": {},
            "outputs": [],
            "source": [
                "u = np.array([4, 5, 6])\n",
                "dataset = np.array([[1, 2, 3, 0],\n",
                "                   [2, 3, 4, 1],\n",
                "                   [3, 4, 5, 0],\n",
                "                   [4, 5, 6, 1],\n",
                "                   [1, 2, 3, 0]])\n",
                "\n",
                "print(classifier(u, dataset, 3)) # 1"
            ]
        },
        {
            "cell_type": "markdown",
            "metadata": {},
            "source": [
                "### Exercice 2. Application"
            ]
        },
        {
            "cell_type": "markdown",
            "metadata": {},
            "source": [
                "Dans cet exercice, nous allons appliquer l'algorithme écrit ci-dessus pour classifier des iris.\n",
                "Pour cela, nous commençons par charger le dataset : "
            ]
        },
        {
            "cell_type": "code",
            "execution_count": 27,
            "metadata": {},
            "outputs": [
                {
                    "name": "stdout",
                    "output_type": "stream",
                    "text": [
                        ".. _iris_dataset:\n",
                        "\n",
                        "Iris plants dataset\n",
                        "--------------------\n",
                        "\n",
                        "**Data Set Characteristics:**\n",
                        "\n",
                        "    :Number of Instances: 150 (50 in each of three classes)\n",
                        "    :Number of Attributes: 4 numeric, predictive attributes and the class\n",
                        "    :Attribute Information:\n",
                        "        - sepal length in cm\n",
                        "        - sepal width in cm\n",
                        "        - petal length in cm\n",
                        "        - petal width in cm\n",
                        "        - class:\n",
                        "                - Iris-Setosa\n",
                        "                - Iris-Versicolour\n",
                        "                - Iris-Virginica\n",
                        "                \n",
                        "    :Summary Statistics:\n",
                        "\n",
                        "    ============== ==== ==== ======= ===== ====================\n",
                        "                    Min  Max   Mean    SD   Class Correlation\n",
                        "    ============== ==== ==== ======= ===== ====================\n",
                        "    sepal length:   4.3  7.9   5.84   0.83    0.7826\n",
                        "    sepal width:    2.0  4.4   3.05   0.43   -0.4194\n",
                        "    petal length:   1.0  6.9   3.76   1.76    0.9490  (high!)\n",
                        "    petal width:    0.1  2.5   1.20   0.76    0.9565  (high!)\n",
                        "    ============== ==== ==== ======= ===== ====================\n",
                        "\n",
                        "    :Missing Attribute Values: None\n",
                        "    :Class Distribution: 33.3% for each of 3 classes.\n",
                        "    :Creator: R.A. Fisher\n",
                        "    :Donor: Michael Marshall (MARSHALL%PLU@io.arc.nasa.gov)\n",
                        "    :Date: July, 1988\n",
                        "\n",
                        "The famous Iris database, first used by Sir R.A. Fisher. The dataset is taken\n",
                        "from Fisher's paper. Note that it's the same as in R, but not as in the UCI\n",
                        "Machine Learning Repository, which has two wrong data points.\n",
                        "\n",
                        "This is perhaps the best known database to be found in the\n",
                        "pattern recognition literature.  Fisher's paper is a classic in the field and\n",
                        "is referenced frequently to this day.  (See Duda & Hart, for example.)  The\n",
                        "data set contains 3 classes of 50 instances each, where each class refers to a\n",
                        "type of iris plant.  One class is linearly separable from the other 2; the\n",
                        "latter are NOT linearly separable from each other.\n",
                        "\n",
                        ".. topic:: References\n",
                        "\n",
                        "   - Fisher, R.A. \"The use of multiple measurements in taxonomic problems\"\n",
                        "     Annual Eugenics, 7, Part II, 179-188 (1936); also in \"Contributions to\n",
                        "     Mathematical Statistics\" (John Wiley, NY, 1950).\n",
                        "   - Duda, R.O., & Hart, P.E. (1973) Pattern Classification and Scene Analysis.\n",
                        "     (Q327.D83) John Wiley & Sons.  ISBN 0-471-22361-1.  See page 218.\n",
                        "   - Dasarathy, B.V. (1980) \"Nosing Around the Neighborhood: A New System\n",
                        "     Structure and Classification Rule for Recognition in Partially Exposed\n",
                        "     Environments\".  IEEE Transactions on Pattern Analysis and Machine\n",
                        "     Intelligence, Vol. PAMI-2, No. 1, 67-71.\n",
                        "   - Gates, G.W. (1972) \"The Reduced Nearest Neighbor Rule\".  IEEE Transactions\n",
                        "     on Information Theory, May 1972, 431-433.\n",
                        "   - See also: 1988 MLC Proceedings, 54-64.  Cheeseman et al\"s AUTOCLASS II\n",
                        "     conceptual clustering system finds 3 classes in the data.\n",
                        "   - Many, many more ...\n"
                    ]
                }
            ],
            "source": [
                "from sklearn.datasets import load_iris\n",
                "iris = load_iris()\n",
                "print(iris.DESCR)"
            ]
        },
        {
            "cell_type": "markdown",
            "metadata": {},
            "source": [
                "Comme indiqué dans sa description, le dataset contient, pour chaque iris, la longueur et la largeur de sa sépale et la longueur et la largeur de sa pétale. Les iris sont ensuite classifiés soit en Iris-Setosa (0), soit en Iris-Versicolour (1) ou encore en Iris-Virginica (2) :\n",
                "                "
            ]
        },
        {
            "cell_type": "markdown",
            "metadata": {},
            "source": [
                "<b>Indication :</b> le dataset <code>iris</code> est composé de deux parties : \n",
                " - <code>iris.data</code> décrit les caractéristiques (features)\n",
                " - <code>iris.target</code> contient les classes"
            ]
        },
        {
            "cell_type": "code",
            "execution_count": null,
            "metadata": {},
            "outputs": [],
            "source": [
                "print(iris.target)"
            ]
        },
        {
            "cell_type": "code",
            "execution_count": null,
            "metadata": {},
            "outputs": [],
            "source": [
                "print(iris.data.shape)"
            ]
        },
        {
            "cell_type": "code",
            "execution_count": null,
            "metadata": {},
            "outputs": [],
            "source": [
                "print(iris.target.shape)"
            ]
        },
        {
            "cell_type": "markdown",
            "metadata": {},
            "source": [
                "Pour des raisons pédagogiques, et pour se focaliser sur l'algorithme, nous avons choisi de l'implémenter pour faire de la classification binaire (c'est ce que réalisent les étapes de l'exercice 1). "
            ]
        },
        {
            "cell_type": "markdown",
            "metadata": {},
            "source": [
                "1. Ecrire l'instruction permettant de transformer le problème en un problème de classification binaire :  tous les Iris-Virginica (2) seront classés en Iris-Versicolour (1)."
            ]
        },
        {
            "cell_type": "code",
            "execution_count": null,
            "metadata": {},
            "outputs": [],
            "source": []
        },
        {
            "cell_type": "code",
            "execution_count": null,
            "metadata": {},
            "outputs": [],
            "source": []
        },
        {
            "cell_type": "markdown",
            "metadata": {},
            "source": [
                "2. Afin d'utiliser l'algorithme que vous avez implémenté dans l'exercice 1, créer un tableau <code>dataset</code> dont le contenu sera des iris avec leur classes. Pour pouvoir visualiser le dataset, nous n'allons garder que les deux premières colonnes."
            ]
        },
        {
            "cell_type": "code",
            "execution_count": null,
            "metadata": {},
            "outputs": [],
            "source": []
        },
        {
            "cell_type": "markdown",
            "metadata": {},
            "source": [
                "3. Visualiser le dataset"
            ]
        },
        {
            "cell_type": "code",
            "execution_count": null,
            "metadata": {},
            "outputs": [],
            "source": []
        },
        {
            "cell_type": "markdown",
            "metadata": {},
            "source": [
                "4. Soit le vecteur $u(6.5, 2.5)$, utilisez votre algorithme avec $k=3$ pour classer $u$."
            ]
        },
        {
            "cell_type": "code",
            "execution_count": null,
            "metadata": {},
            "outputs": [],
            "source": []
        },
        {
            "cell_type": "markdown",
            "metadata": {},
            "source": [
                "5. Afficher le nouveau point sur le graphique et vérifier visuellement votre résultat."
            ]
        },
        {
            "cell_type": "code",
            "execution_count": null,
            "metadata": {},
            "outputs": [],
            "source": []
        },
        {
            "cell_type": "markdown",
            "metadata": {},
            "source": [
                "### Exercice 3 : $k$-nn avec <code>sklearn</code>"
            ]
        },
        {
            "cell_type": "markdown",
            "metadata": {},
            "source": [
                "Dans cet exercice, nous allons utiliser le classifieur $k$−nn pour apprendre à reconnaître des fruits. Pour cela, nous allons utiliser le dataset fruits disponible au format csv à l’adresse :\n",
                "               \n",
                "               https://www.labri.fr/~zemmari/datasets/fruits.csv"
            ]
        },
        {
            "cell_type": "markdown",
            "metadata": {},
            "source": [
                "1. Charger les données, puis afficher les informations pour vérifier si le dataset ne contient pas de données manquantes."
            ]
        },
        {
            "cell_type": "code",
            "execution_count": 3,
            "metadata": {},
            "outputs": [
                {
                    "name": "stderr",
                    "output_type": "stream",
                    "text": [
                        "Matplotlib is building the font cache; this may take a moment.\n"
                    ]
                }
            ],
            "source": [
                "import pandas as pd\n",
                "import matplotlib.pyplot as plt"
            ]
        },
        {
            "cell_type": "code",
            "execution_count": 4,
            "metadata": {},
            "outputs": [
                {
                    "data": {
                        "text/html": [
                            "<div>\n",
                            "<style scoped>\n",
                            "    .dataframe tbody tr th:only-of-type {\n",
                            "        vertical-align: middle;\n",
                            "    }\n",
                            "\n",
                            "    .dataframe tbody tr th {\n",
                            "        vertical-align: top;\n",
                            "    }\n",
                            "\n",
                            "    .dataframe thead th {\n",
                            "        text-align: right;\n",
                            "    }\n",
                            "</style>\n",
                            "<table border=\"1\" class=\"dataframe\">\n",
                            "  <thead>\n",
                            "    <tr style=\"text-align: right;\">\n",
                            "      <th></th>\n",
                            "      <th>fruit_label</th>\n",
                            "      <th>fruit_name</th>\n",
                            "      <th>fruit_subtype</th>\n",
                            "      <th>mass</th>\n",
                            "      <th>width</th>\n",
                            "      <th>height</th>\n",
                            "      <th>color_score</th>\n",
                            "    </tr>\n",
                            "  </thead>\n",
                            "  <tbody>\n",
                            "    <tr>\n",
                            "      <th>0</th>\n",
                            "      <td>1</td>\n",
                            "      <td>apple</td>\n",
                            "      <td>granny_smith</td>\n",
                            "      <td>192</td>\n",
                            "      <td>8.4</td>\n",
                            "      <td>7.3</td>\n",
                            "      <td>0.55</td>\n",
                            "    </tr>\n",
                            "    <tr>\n",
                            "      <th>1</th>\n",
                            "      <td>1</td>\n",
                            "      <td>apple</td>\n",
                            "      <td>granny_smith</td>\n",
                            "      <td>180</td>\n",
                            "      <td>8.0</td>\n",
                            "      <td>6.8</td>\n",
                            "      <td>0.59</td>\n",
                            "    </tr>\n",
                            "    <tr>\n",
                            "      <th>2</th>\n",
                            "      <td>1</td>\n",
                            "      <td>apple</td>\n",
                            "      <td>granny_smith</td>\n",
                            "      <td>176</td>\n",
                            "      <td>7.4</td>\n",
                            "      <td>7.2</td>\n",
                            "      <td>0.60</td>\n",
                            "    </tr>\n",
                            "    <tr>\n",
                            "      <th>3</th>\n",
                            "      <td>2</td>\n",
                            "      <td>mandarin</td>\n",
                            "      <td>mandarin</td>\n",
                            "      <td>86</td>\n",
                            "      <td>6.2</td>\n",
                            "      <td>4.7</td>\n",
                            "      <td>0.80</td>\n",
                            "    </tr>\n",
                            "    <tr>\n",
                            "      <th>4</th>\n",
                            "      <td>2</td>\n",
                            "      <td>mandarin</td>\n",
                            "      <td>mandarin</td>\n",
                            "      <td>84</td>\n",
                            "      <td>6.0</td>\n",
                            "      <td>4.6</td>\n",
                            "      <td>0.79</td>\n",
                            "    </tr>\n",
                            "    <tr>\n",
                            "      <th>5</th>\n",
                            "      <td>2</td>\n",
                            "      <td>mandarin</td>\n",
                            "      <td>mandarin</td>\n",
                            "      <td>80</td>\n",
                            "      <td>5.8</td>\n",
                            "      <td>4.3</td>\n",
                            "      <td>0.77</td>\n",
                            "    </tr>\n",
                            "    <tr>\n",
                            "      <th>6</th>\n",
                            "      <td>2</td>\n",
                            "      <td>mandarin</td>\n",
                            "      <td>mandarin</td>\n",
                            "      <td>80</td>\n",
                            "      <td>5.9</td>\n",
                            "      <td>4.3</td>\n",
                            "      <td>0.81</td>\n",
                            "    </tr>\n",
                            "    <tr>\n",
                            "      <th>7</th>\n",
                            "      <td>2</td>\n",
                            "      <td>mandarin</td>\n",
                            "      <td>mandarin</td>\n",
                            "      <td>76</td>\n",
                            "      <td>5.8</td>\n",
                            "      <td>4.0</td>\n",
                            "      <td>0.81</td>\n",
                            "    </tr>\n",
                            "    <tr>\n",
                            "      <th>8</th>\n",
                            "      <td>1</td>\n",
                            "      <td>apple</td>\n",
                            "      <td>braeburn</td>\n",
                            "      <td>178</td>\n",
                            "      <td>7.1</td>\n",
                            "      <td>7.8</td>\n",
                            "      <td>0.92</td>\n",
                            "    </tr>\n",
                            "    <tr>\n",
                            "      <th>9</th>\n",
                            "      <td>1</td>\n",
                            "      <td>apple</td>\n",
                            "      <td>braeburn</td>\n",
                            "      <td>172</td>\n",
                            "      <td>7.4</td>\n",
                            "      <td>7.0</td>\n",
                            "      <td>0.89</td>\n",
                            "    </tr>\n",
                            "    <tr>\n",
                            "      <th>10</th>\n",
                            "      <td>1</td>\n",
                            "      <td>apple</td>\n",
                            "      <td>braeburn</td>\n",
                            "      <td>166</td>\n",
                            "      <td>6.9</td>\n",
                            "      <td>7.3</td>\n",
                            "      <td>0.93</td>\n",
                            "    </tr>\n",
                            "    <tr>\n",
                            "      <th>11</th>\n",
                            "      <td>1</td>\n",
                            "      <td>apple</td>\n",
                            "      <td>braeburn</td>\n",
                            "      <td>172</td>\n",
                            "      <td>7.1</td>\n",
                            "      <td>7.6</td>\n",
                            "      <td>0.92</td>\n",
                            "    </tr>\n",
                            "    <tr>\n",
                            "      <th>12</th>\n",
                            "      <td>1</td>\n",
                            "      <td>apple</td>\n",
                            "      <td>braeburn</td>\n",
                            "      <td>154</td>\n",
                            "      <td>7.0</td>\n",
                            "      <td>7.1</td>\n",
                            "      <td>0.88</td>\n",
                            "    </tr>\n",
                            "    <tr>\n",
                            "      <th>13</th>\n",
                            "      <td>1</td>\n",
                            "      <td>apple</td>\n",
                            "      <td>golden_delicious</td>\n",
                            "      <td>164</td>\n",
                            "      <td>7.3</td>\n",
                            "      <td>7.7</td>\n",
                            "      <td>0.70</td>\n",
                            "    </tr>\n",
                            "    <tr>\n",
                            "      <th>14</th>\n",
                            "      <td>1</td>\n",
                            "      <td>apple</td>\n",
                            "      <td>golden_delicious</td>\n",
                            "      <td>152</td>\n",
                            "      <td>7.6</td>\n",
                            "      <td>7.3</td>\n",
                            "      <td>0.69</td>\n",
                            "    </tr>\n",
                            "    <tr>\n",
                            "      <th>15</th>\n",
                            "      <td>1</td>\n",
                            "      <td>apple</td>\n",
                            "      <td>golden_delicious</td>\n",
                            "      <td>156</td>\n",
                            "      <td>7.7</td>\n",
                            "      <td>7.1</td>\n",
                            "      <td>0.69</td>\n",
                            "    </tr>\n",
                            "    <tr>\n",
                            "      <th>16</th>\n",
                            "      <td>1</td>\n",
                            "      <td>apple</td>\n",
                            "      <td>golden_delicious</td>\n",
                            "      <td>156</td>\n",
                            "      <td>7.6</td>\n",
                            "      <td>7.5</td>\n",
                            "      <td>0.67</td>\n",
                            "    </tr>\n",
                            "    <tr>\n",
                            "      <th>17</th>\n",
                            "      <td>1</td>\n",
                            "      <td>apple</td>\n",
                            "      <td>golden_delicious</td>\n",
                            "      <td>168</td>\n",
                            "      <td>7.5</td>\n",
                            "      <td>7.6</td>\n",
                            "      <td>0.73</td>\n",
                            "    </tr>\n",
                            "    <tr>\n",
                            "      <th>18</th>\n",
                            "      <td>1</td>\n",
                            "      <td>apple</td>\n",
                            "      <td>cripps_pink</td>\n",
                            "      <td>162</td>\n",
                            "      <td>7.5</td>\n",
                            "      <td>7.1</td>\n",
                            "      <td>0.83</td>\n",
                            "    </tr>\n",
                            "    <tr>\n",
                            "      <th>19</th>\n",
                            "      <td>1</td>\n",
                            "      <td>apple</td>\n",
                            "      <td>cripps_pink</td>\n",
                            "      <td>162</td>\n",
                            "      <td>7.4</td>\n",
                            "      <td>7.2</td>\n",
                            "      <td>0.85</td>\n",
                            "    </tr>\n",
                            "    <tr>\n",
                            "      <th>20</th>\n",
                            "      <td>1</td>\n",
                            "      <td>apple</td>\n",
                            "      <td>cripps_pink</td>\n",
                            "      <td>160</td>\n",
                            "      <td>7.5</td>\n",
                            "      <td>7.5</td>\n",
                            "      <td>0.86</td>\n",
                            "    </tr>\n",
                            "    <tr>\n",
                            "      <th>21</th>\n",
                            "      <td>1</td>\n",
                            "      <td>apple</td>\n",
                            "      <td>cripps_pink</td>\n",
                            "      <td>156</td>\n",
                            "      <td>7.4</td>\n",
                            "      <td>7.4</td>\n",
                            "      <td>0.84</td>\n",
                            "    </tr>\n",
                            "    <tr>\n",
                            "      <th>22</th>\n",
                            "      <td>1</td>\n",
                            "      <td>apple</td>\n",
                            "      <td>cripps_pink</td>\n",
                            "      <td>140</td>\n",
                            "      <td>7.3</td>\n",
                            "      <td>7.1</td>\n",
                            "      <td>0.87</td>\n",
                            "    </tr>\n",
                            "    <tr>\n",
                            "      <th>23</th>\n",
                            "      <td>1</td>\n",
                            "      <td>apple</td>\n",
                            "      <td>cripps_pink</td>\n",
                            "      <td>170</td>\n",
                            "      <td>7.6</td>\n",
                            "      <td>7.9</td>\n",
                            "      <td>0.88</td>\n",
                            "    </tr>\n",
                            "    <tr>\n",
                            "      <th>24</th>\n",
                            "      <td>3</td>\n",
                            "      <td>orange</td>\n",
                            "      <td>spanish_jumbo</td>\n",
                            "      <td>342</td>\n",
                            "      <td>9.0</td>\n",
                            "      <td>9.4</td>\n",
                            "      <td>0.75</td>\n",
                            "    </tr>\n",
                            "    <tr>\n",
                            "      <th>25</th>\n",
                            "      <td>3</td>\n",
                            "      <td>orange</td>\n",
                            "      <td>spanish_jumbo</td>\n",
                            "      <td>356</td>\n",
                            "      <td>9.2</td>\n",
                            "      <td>9.2</td>\n",
                            "      <td>0.75</td>\n",
                            "    </tr>\n",
                            "    <tr>\n",
                            "      <th>26</th>\n",
                            "      <td>3</td>\n",
                            "      <td>orange</td>\n",
                            "      <td>spanish_jumbo</td>\n",
                            "      <td>362</td>\n",
                            "      <td>9.6</td>\n",
                            "      <td>9.2</td>\n",
                            "      <td>0.74</td>\n",
                            "    </tr>\n",
                            "    <tr>\n",
                            "      <th>27</th>\n",
                            "      <td>3</td>\n",
                            "      <td>orange</td>\n",
                            "      <td>selected_seconds</td>\n",
                            "      <td>204</td>\n",
                            "      <td>7.5</td>\n",
                            "      <td>9.2</td>\n",
                            "      <td>0.77</td>\n",
                            "    </tr>\n",
                            "    <tr>\n",
                            "      <th>28</th>\n",
                            "      <td>3</td>\n",
                            "      <td>orange</td>\n",
                            "      <td>selected_seconds</td>\n",
                            "      <td>140</td>\n",
                            "      <td>6.7</td>\n",
                            "      <td>7.1</td>\n",
                            "      <td>0.72</td>\n",
                            "    </tr>\n",
                            "    <tr>\n",
                            "      <th>29</th>\n",
                            "      <td>3</td>\n",
                            "      <td>orange</td>\n",
                            "      <td>selected_seconds</td>\n",
                            "      <td>160</td>\n",
                            "      <td>7.0</td>\n",
                            "      <td>7.4</td>\n",
                            "      <td>0.81</td>\n",
                            "    </tr>\n",
                            "    <tr>\n",
                            "      <th>30</th>\n",
                            "      <td>3</td>\n",
                            "      <td>orange</td>\n",
                            "      <td>selected_seconds</td>\n",
                            "      <td>158</td>\n",
                            "      <td>7.1</td>\n",
                            "      <td>7.5</td>\n",
                            "      <td>0.79</td>\n",
                            "    </tr>\n",
                            "    <tr>\n",
                            "      <th>31</th>\n",
                            "      <td>3</td>\n",
                            "      <td>orange</td>\n",
                            "      <td>selected_seconds</td>\n",
                            "      <td>210</td>\n",
                            "      <td>7.8</td>\n",
                            "      <td>8.0</td>\n",
                            "      <td>0.82</td>\n",
                            "    </tr>\n",
                            "    <tr>\n",
                            "      <th>32</th>\n",
                            "      <td>3</td>\n",
                            "      <td>orange</td>\n",
                            "      <td>selected_seconds</td>\n",
                            "      <td>164</td>\n",
                            "      <td>7.2</td>\n",
                            "      <td>7.0</td>\n",
                            "      <td>0.80</td>\n",
                            "    </tr>\n",
                            "    <tr>\n",
                            "      <th>33</th>\n",
                            "      <td>3</td>\n",
                            "      <td>orange</td>\n",
                            "      <td>turkey_navel</td>\n",
                            "      <td>190</td>\n",
                            "      <td>7.5</td>\n",
                            "      <td>8.1</td>\n",
                            "      <td>0.74</td>\n",
                            "    </tr>\n",
                            "    <tr>\n",
                            "      <th>34</th>\n",
                            "      <td>3</td>\n",
                            "      <td>orange</td>\n",
                            "      <td>turkey_navel</td>\n",
                            "      <td>142</td>\n",
                            "      <td>7.6</td>\n",
                            "      <td>7.8</td>\n",
                            "      <td>0.75</td>\n",
                            "    </tr>\n",
                            "    <tr>\n",
                            "      <th>35</th>\n",
                            "      <td>3</td>\n",
                            "      <td>orange</td>\n",
                            "      <td>turkey_navel</td>\n",
                            "      <td>150</td>\n",
                            "      <td>7.1</td>\n",
                            "      <td>7.9</td>\n",
                            "      <td>0.75</td>\n",
                            "    </tr>\n",
                            "    <tr>\n",
                            "      <th>36</th>\n",
                            "      <td>3</td>\n",
                            "      <td>orange</td>\n",
                            "      <td>turkey_navel</td>\n",
                            "      <td>160</td>\n",
                            "      <td>7.1</td>\n",
                            "      <td>7.6</td>\n",
                            "      <td>0.76</td>\n",
                            "    </tr>\n",
                            "    <tr>\n",
                            "      <th>37</th>\n",
                            "      <td>3</td>\n",
                            "      <td>orange</td>\n",
                            "      <td>turkey_navel</td>\n",
                            "      <td>154</td>\n",
                            "      <td>7.3</td>\n",
                            "      <td>7.3</td>\n",
                            "      <td>0.79</td>\n",
                            "    </tr>\n",
                            "    <tr>\n",
                            "      <th>38</th>\n",
                            "      <td>3</td>\n",
                            "      <td>orange</td>\n",
                            "      <td>turkey_navel</td>\n",
                            "      <td>158</td>\n",
                            "      <td>7.2</td>\n",
                            "      <td>7.8</td>\n",
                            "      <td>0.77</td>\n",
                            "    </tr>\n",
                            "    <tr>\n",
                            "      <th>39</th>\n",
                            "      <td>3</td>\n",
                            "      <td>orange</td>\n",
                            "      <td>turkey_navel</td>\n",
                            "      <td>144</td>\n",
                            "      <td>6.8</td>\n",
                            "      <td>7.4</td>\n",
                            "      <td>0.75</td>\n",
                            "    </tr>\n",
                            "    <tr>\n",
                            "      <th>40</th>\n",
                            "      <td>3</td>\n",
                            "      <td>orange</td>\n",
                            "      <td>turkey_navel</td>\n",
                            "      <td>154</td>\n",
                            "      <td>7.1</td>\n",
                            "      <td>7.5</td>\n",
                            "      <td>0.78</td>\n",
                            "    </tr>\n",
                            "    <tr>\n",
                            "      <th>41</th>\n",
                            "      <td>3</td>\n",
                            "      <td>orange</td>\n",
                            "      <td>turkey_navel</td>\n",
                            "      <td>180</td>\n",
                            "      <td>7.6</td>\n",
                            "      <td>8.2</td>\n",
                            "      <td>0.79</td>\n",
                            "    </tr>\n",
                            "    <tr>\n",
                            "      <th>42</th>\n",
                            "      <td>3</td>\n",
                            "      <td>orange</td>\n",
                            "      <td>turkey_navel</td>\n",
                            "      <td>154</td>\n",
                            "      <td>7.2</td>\n",
                            "      <td>7.2</td>\n",
                            "      <td>0.82</td>\n",
                            "    </tr>\n",
                            "    <tr>\n",
                            "      <th>43</th>\n",
                            "      <td>4</td>\n",
                            "      <td>lemon</td>\n",
                            "      <td>spanish_belsan</td>\n",
                            "      <td>194</td>\n",
                            "      <td>7.2</td>\n",
                            "      <td>10.3</td>\n",
                            "      <td>0.70</td>\n",
                            "    </tr>\n",
                            "    <tr>\n",
                            "      <th>44</th>\n",
                            "      <td>4</td>\n",
                            "      <td>lemon</td>\n",
                            "      <td>spanish_belsan</td>\n",
                            "      <td>200</td>\n",
                            "      <td>7.3</td>\n",
                            "      <td>10.5</td>\n",
                            "      <td>0.72</td>\n",
                            "    </tr>\n",
                            "    <tr>\n",
                            "      <th>45</th>\n",
                            "      <td>4</td>\n",
                            "      <td>lemon</td>\n",
                            "      <td>spanish_belsan</td>\n",
                            "      <td>186</td>\n",
                            "      <td>7.2</td>\n",
                            "      <td>9.2</td>\n",
                            "      <td>0.72</td>\n",
                            "    </tr>\n",
                            "    <tr>\n",
                            "      <th>46</th>\n",
                            "      <td>4</td>\n",
                            "      <td>lemon</td>\n",
                            "      <td>spanish_belsan</td>\n",
                            "      <td>216</td>\n",
                            "      <td>7.3</td>\n",
                            "      <td>10.2</td>\n",
                            "      <td>0.71</td>\n",
                            "    </tr>\n",
                            "    <tr>\n",
                            "      <th>47</th>\n",
                            "      <td>4</td>\n",
                            "      <td>lemon</td>\n",
                            "      <td>spanish_belsan</td>\n",
                            "      <td>196</td>\n",
                            "      <td>7.3</td>\n",
                            "      <td>9.7</td>\n",
                            "      <td>0.72</td>\n",
                            "    </tr>\n",
                            "    <tr>\n",
                            "      <th>48</th>\n",
                            "      <td>4</td>\n",
                            "      <td>lemon</td>\n",
                            "      <td>spanish_belsan</td>\n",
                            "      <td>174</td>\n",
                            "      <td>7.3</td>\n",
                            "      <td>10.1</td>\n",
                            "      <td>0.72</td>\n",
                            "    </tr>\n",
                            "    <tr>\n",
                            "      <th>49</th>\n",
                            "      <td>4</td>\n",
                            "      <td>lemon</td>\n",
                            "      <td>unknown</td>\n",
                            "      <td>132</td>\n",
                            "      <td>5.8</td>\n",
                            "      <td>8.7</td>\n",
                            "      <td>0.73</td>\n",
                            "    </tr>\n",
                            "    <tr>\n",
                            "      <th>50</th>\n",
                            "      <td>4</td>\n",
                            "      <td>lemon</td>\n",
                            "      <td>unknown</td>\n",
                            "      <td>130</td>\n",
                            "      <td>6.0</td>\n",
                            "      <td>8.2</td>\n",
                            "      <td>0.71</td>\n",
                            "    </tr>\n",
                            "    <tr>\n",
                            "      <th>51</th>\n",
                            "      <td>4</td>\n",
                            "      <td>lemon</td>\n",
                            "      <td>unknown</td>\n",
                            "      <td>116</td>\n",
                            "      <td>6.0</td>\n",
                            "      <td>7.5</td>\n",
                            "      <td>0.72</td>\n",
                            "    </tr>\n",
                            "    <tr>\n",
                            "      <th>52</th>\n",
                            "      <td>4</td>\n",
                            "      <td>lemon</td>\n",
                            "      <td>unknown</td>\n",
                            "      <td>118</td>\n",
                            "      <td>5.9</td>\n",
                            "      <td>8.0</td>\n",
                            "      <td>0.72</td>\n",
                            "    </tr>\n",
                            "    <tr>\n",
                            "      <th>53</th>\n",
                            "      <td>4</td>\n",
                            "      <td>lemon</td>\n",
                            "      <td>unknown</td>\n",
                            "      <td>120</td>\n",
                            "      <td>6.0</td>\n",
                            "      <td>8.4</td>\n",
                            "      <td>0.74</td>\n",
                            "    </tr>\n",
                            "    <tr>\n",
                            "      <th>54</th>\n",
                            "      <td>4</td>\n",
                            "      <td>lemon</td>\n",
                            "      <td>unknown</td>\n",
                            "      <td>116</td>\n",
                            "      <td>6.1</td>\n",
                            "      <td>8.5</td>\n",
                            "      <td>0.71</td>\n",
                            "    </tr>\n",
                            "    <tr>\n",
                            "      <th>55</th>\n",
                            "      <td>4</td>\n",
                            "      <td>lemon</td>\n",
                            "      <td>unknown</td>\n",
                            "      <td>116</td>\n",
                            "      <td>6.3</td>\n",
                            "      <td>7.7</td>\n",
                            "      <td>0.72</td>\n",
                            "    </tr>\n",
                            "    <tr>\n",
                            "      <th>56</th>\n",
                            "      <td>4</td>\n",
                            "      <td>lemon</td>\n",
                            "      <td>unknown</td>\n",
                            "      <td>116</td>\n",
                            "      <td>5.9</td>\n",
                            "      <td>8.1</td>\n",
                            "      <td>0.73</td>\n",
                            "    </tr>\n",
                            "    <tr>\n",
                            "      <th>57</th>\n",
                            "      <td>4</td>\n",
                            "      <td>lemon</td>\n",
                            "      <td>unknown</td>\n",
                            "      <td>152</td>\n",
                            "      <td>6.5</td>\n",
                            "      <td>8.5</td>\n",
                            "      <td>0.72</td>\n",
                            "    </tr>\n",
                            "    <tr>\n",
                            "      <th>58</th>\n",
                            "      <td>4</td>\n",
                            "      <td>lemon</td>\n",
                            "      <td>unknown</td>\n",
                            "      <td>118</td>\n",
                            "      <td>6.1</td>\n",
                            "      <td>8.1</td>\n",
                            "      <td>0.70</td>\n",
                            "    </tr>\n",
                            "  </tbody>\n",
                            "</table>\n",
                            "</div>"
                        ],
                        "text/plain": [
                            "    fruit_label fruit_name     fruit_subtype  mass  width  height  color_score\n",
                            "0             1      apple      granny_smith   192    8.4     7.3         0.55\n",
                            "1             1      apple      granny_smith   180    8.0     6.8         0.59\n",
                            "2             1      apple      granny_smith   176    7.4     7.2         0.60\n",
                            "3             2   mandarin          mandarin    86    6.2     4.7         0.80\n",
                            "4             2   mandarin          mandarin    84    6.0     4.6         0.79\n",
                            "5             2   mandarin          mandarin    80    5.8     4.3         0.77\n",
                            "6             2   mandarin          mandarin    80    5.9     4.3         0.81\n",
                            "7             2   mandarin          mandarin    76    5.8     4.0         0.81\n",
                            "8             1      apple          braeburn   178    7.1     7.8         0.92\n",
                            "9             1      apple          braeburn   172    7.4     7.0         0.89\n",
                            "10            1      apple          braeburn   166    6.9     7.3         0.93\n",
                            "11            1      apple          braeburn   172    7.1     7.6         0.92\n",
                            "12            1      apple          braeburn   154    7.0     7.1         0.88\n",
                            "13            1      apple  golden_delicious   164    7.3     7.7         0.70\n",
                            "14            1      apple  golden_delicious   152    7.6     7.3         0.69\n",
                            "15            1      apple  golden_delicious   156    7.7     7.1         0.69\n",
                            "16            1      apple  golden_delicious   156    7.6     7.5         0.67\n",
                            "17            1      apple  golden_delicious   168    7.5     7.6         0.73\n",
                            "18            1      apple       cripps_pink   162    7.5     7.1         0.83\n",
                            "19            1      apple       cripps_pink   162    7.4     7.2         0.85\n",
                            "20            1      apple       cripps_pink   160    7.5     7.5         0.86\n",
                            "21            1      apple       cripps_pink   156    7.4     7.4         0.84\n",
                            "22            1      apple       cripps_pink   140    7.3     7.1         0.87\n",
                            "23            1      apple       cripps_pink   170    7.6     7.9         0.88\n",
                            "24            3     orange     spanish_jumbo   342    9.0     9.4         0.75\n",
                            "25            3     orange     spanish_jumbo   356    9.2     9.2         0.75\n",
                            "26            3     orange     spanish_jumbo   362    9.6     9.2         0.74\n",
                            "27            3     orange  selected_seconds   204    7.5     9.2         0.77\n",
                            "28            3     orange  selected_seconds   140    6.7     7.1         0.72\n",
                            "29            3     orange  selected_seconds   160    7.0     7.4         0.81\n",
                            "30            3     orange  selected_seconds   158    7.1     7.5         0.79\n",
                            "31            3     orange  selected_seconds   210    7.8     8.0         0.82\n",
                            "32            3     orange  selected_seconds   164    7.2     7.0         0.80\n",
                            "33            3     orange      turkey_navel   190    7.5     8.1         0.74\n",
                            "34            3     orange      turkey_navel   142    7.6     7.8         0.75\n",
                            "35            3     orange      turkey_navel   150    7.1     7.9         0.75\n",
                            "36            3     orange      turkey_navel   160    7.1     7.6         0.76\n",
                            "37            3     orange      turkey_navel   154    7.3     7.3         0.79\n",
                            "38            3     orange      turkey_navel   158    7.2     7.8         0.77\n",
                            "39            3     orange      turkey_navel   144    6.8     7.4         0.75\n",
                            "40            3     orange      turkey_navel   154    7.1     7.5         0.78\n",
                            "41            3     orange      turkey_navel   180    7.6     8.2         0.79\n",
                            "42            3     orange      turkey_navel   154    7.2     7.2         0.82\n",
                            "43            4      lemon    spanish_belsan   194    7.2    10.3         0.70\n",
                            "44            4      lemon    spanish_belsan   200    7.3    10.5         0.72\n",
                            "45            4      lemon    spanish_belsan   186    7.2     9.2         0.72\n",
                            "46            4      lemon    spanish_belsan   216    7.3    10.2         0.71\n",
                            "47            4      lemon    spanish_belsan   196    7.3     9.7         0.72\n",
                            "48            4      lemon    spanish_belsan   174    7.3    10.1         0.72\n",
                            "49            4      lemon           unknown   132    5.8     8.7         0.73\n",
                            "50            4      lemon           unknown   130    6.0     8.2         0.71\n",
                            "51            4      lemon           unknown   116    6.0     7.5         0.72\n",
                            "52            4      lemon           unknown   118    5.9     8.0         0.72\n",
                            "53            4      lemon           unknown   120    6.0     8.4         0.74\n",
                            "54            4      lemon           unknown   116    6.1     8.5         0.71\n",
                            "55            4      lemon           unknown   116    6.3     7.7         0.72\n",
                            "56            4      lemon           unknown   116    5.9     8.1         0.73\n",
                            "57            4      lemon           unknown   152    6.5     8.5         0.72\n",
                            "58            4      lemon           unknown   118    6.1     8.1         0.70"
                        ]
                    },
                    "execution_count": 4,
                    "metadata": {},
                    "output_type": "execute_result"
                }
            ],
            "source": [
                "df = pd.read_csv(\"https://www.labri.fr/~zemmari/datasets/fruits.csv\", delimiter='\\t')\n",
                "df"
            ]
        },
        {
            "cell_type": "markdown",
            "metadata": {},
            "source": [
                "2. Afficher un graphique pour visualiser les tailles (height) en fonction des largeurs (width), sans tenir compte des classes des points dans un premier temps."
            ]
        },
        {
            "cell_type": "code",
            "execution_count": 13,
            "metadata": {},
            "outputs": [
                {
                    "data": {
                        "text/plain": [
                            "<matplotlib.collections.PathCollection at 0x7f4b2e78f190>"
                        ]
                    },
                    "execution_count": 13,
                    "metadata": {},
                    "output_type": "execute_result"
                },
                {
                    "data": {
                        "image/png": "[encoded data removed]",
                        "text/plain": [
                            "<Figure size 640x480 with 1 Axes>"
                        ]
                    },
                    "metadata": {},
                    "output_type": "display_data"
                }
            ],
            "source": [
                "plt.scatter(df[\"width\"], df[\"height\"])"
            ]
        },
        {
            "cell_type": "markdown",
            "metadata": {},
            "source": [
                "3. Modifier votre graphique pour qu’il affiche les points avec des couleurs différentes en fonction du\n",
                "nom (<code>fruit_name</code>) du fruit. Vérifier que les classes sont assez équilibrées."
            ]
        },
        {
            "cell_type": "code",
            "execution_count": 19,
            "metadata": {},
            "outputs": [
                {
                    "data": {
                        "image/png": "[encoded data removed]",
                        "text/plain": [
                            "<Figure size 640x480 with 1 Axes>"
                        ]
                    },
                    "metadata": {},
                    "output_type": "display_data"
                }
            ],
            "source": [
                "couleurs = {'lemon': 'yellow', 'apple' : 'green', 'orange': 'orange', 'mandarin': 'red'}\n",
                "fruit = df['fruit_name']\n",
                "width = df[\"width\"]\n",
                "height = df[\"height\"]\n",
                "for f in couleurs.keys():\n",
                "    plt.scatter(width[fruit == f], height[fruit == f], c = couleurs[f], marker = 'o', label = f)\n"
            ]
        },
        {
            "cell_type": "code",
            "execution_count": null,
            "metadata": {},
            "outputs": [],
            "source": []
        },
        {
            "cell_type": "code",
            "execution_count": null,
            "metadata": {},
            "outputs": [],
            "source": []
        },
        {
            "cell_type": "markdown",
            "metadata": {},
            "source": [
                "4. Définir X les données composées de la taille, la longueur et la masse des fruits, et Y les noms des\n",
                "fruits."
            ]
        },
        {
            "cell_type": "code",
            "execution_count": 24,
            "metadata": {},
            "outputs": [
                {
                    "data": {
                        "text/plain": [
                            "0        apple\n",
                            "1        apple\n",
                            "2        apple\n",
                            "3     mandarin\n",
                            "4     mandarin\n",
                            "5     mandarin\n",
                            "6     mandarin\n",
                            "7     mandarin\n",
                            "8        apple\n",
                            "9        apple\n",
                            "10       apple\n",
                            "11       apple\n",
                            "12       apple\n",
                            "13       apple\n",
                            "14       apple\n",
                            "15       apple\n",
                            "16       apple\n",
                            "17       apple\n",
                            "18       apple\n",
                            "19       apple\n",
                            "20       apple\n",
                            "21       apple\n",
                            "22       apple\n",
                            "23       apple\n",
                            "24      orange\n",
                            "25      orange\n",
                            "26      orange\n",
                            "27      orange\n",
                            "28      orange\n",
                            "29      orange\n",
                            "30      orange\n",
                            "31      orange\n",
                            "32      orange\n",
                            "33      orange\n",
                            "34      orange\n",
                            "35      orange\n",
                            "36      orange\n",
                            "37      orange\n",
                            "38      orange\n",
                            "39      orange\n",
                            "40      orange\n",
                            "41      orange\n",
                            "42      orange\n",
                            "43       lemon\n",
                            "44       lemon\n",
                            "45       lemon\n",
                            "46       lemon\n",
                            "47       lemon\n",
                            "48       lemon\n",
                            "49       lemon\n",
                            "50       lemon\n",
                            "51       lemon\n",
                            "52       lemon\n",
                            "53       lemon\n",
                            "54       lemon\n",
                            "55       lemon\n",
                            "56       lemon\n",
                            "57       lemon\n",
                            "58       lemon\n",
                            "Name: fruit_name, dtype: object"
                        ]
                    },
                    "execution_count": 24,
                    "metadata": {},
                    "output_type": "execute_result"
                }
            ],
            "source": [
                "X = df[['height', 'width', 'mass']]\n",
                "Y = df['fruit_name']\n",
                "X\n",
                "Y"
            ]
        },
        {
            "cell_type": "markdown",
            "metadata": {},
            "source": [
                "5. Découper les données en deux parties : une pour l’entraînement et une pour le test."
            ]
        },
        {
            "cell_type": "code",
            "execution_count": 34,
            "metadata": {},
            "outputs": [],
            "source": [
                "from sklearn.model_selection import train_test_split\n",
                "xtrain, xtest, ytrain, ytest = train_test_split(X,Y, test_size=.3, random_state=1)"
            ]
        },
        {
            "cell_type": "markdown",
            "metadata": {},
            "source": [
                "6. Entraîner un classifieur $k$−nn à reconnaître les fruits. "
            ]
        },
        {
            "cell_type": "code",
            "execution_count": 35,
            "metadata": {},
            "outputs": [
                {
                    "name": "stdout",
                    "output_type": "stream",
                    "text": [
                        "Score =  0.6666666666666666\n"
                    ]
                }
            ],
            "source": [
                "from sklearn.neighbors import KNeighborsClassifier\n",
                "\n",
                "from sklearn.metrics import accuracy_score\n",
                "\n",
                "#on crée un classifieur knn\n",
                "knn = KNeighborsClassifier(n_neighbors=3)\n",
                "\n",
                "#On entraine ce classifieur\n",
                "knn.fit(xtrain, ytrain)\n",
                "\n",
                "#on prédit les etiquettes des x\n",
                "y_pred = knn.predict(xtest)\n",
                "\n",
                "#on vérifie le pourcentage de justesse des etiquettes\n",
                "rslt = accuracy_score(ytest, y_pred)\n",
                "\n",
                "print(\"Score = \", rslt)\n"
            ]
        },
        {
            "cell_type": "markdown",
            "metadata": {},
            "source": [
                "7. Quelle est la valeur par défaut de $k$ ?"
            ]
        },
        {
            "cell_type": "code",
            "execution_count": null,
            "metadata": {},
            "outputs": [],
            "source": [
                "#JSP MON REUF C'EST QUOI CETTE QUESTION ?"
            ]
        },
        {
            "cell_type": "markdown",
            "metadata": {},
            "source": [
                "8. Utiliser votre jeu de test pour mesurer les performances de votre classifieur (matrice de confusion, accuracy, ...). "
            ]
        },
        {
            "cell_type": "code",
            "execution_count": null,
            "metadata": {},
            "outputs": [],
            "source": [
                "rslt = accuracy_score(ytest, y_pred)\n",
                "\n",
                "print(\"Score = \", rslt)"
            ]
        },
        {
            "cell_type": "code",
            "execution_count": null,
            "metadata": {},
            "outputs": [],
            "source": []
        },
        {
            "cell_type": "code",
            "execution_count": 36,
            "metadata": {},
            "outputs": [
                {
                    "name": "stdout",
                    "output_type": "stream",
                    "text": [
                        "la confusion est [[4 0 0 0]\n",
                        " [3 2 0 0]\n",
                        " [0 0 1 0]\n",
                        " [3 0 0 5]]\n"
                    ]
                }
            ],
            "source": [
                "from sklearn.metrics import confusion_matrix\n",
                "\n",
                "# Y_true contient les étiquettes réelles, Y_pred contient les prédictions du modèle\n",
                "confusion = confusion_matrix(ytest, y_pred)\n",
                "print(f\"la confusion est {confusion}\")\n"
            ]
        },
        {
            "cell_type": "markdown",
            "metadata": {},
            "source": [
                "7. Quelle est la nature du fruit dont la masse, la largeur et la taille sont données respectivement par 100, 6.3 et 8? "
            ]
        },
        {
            "cell_type": "code",
            "execution_count": 41,
            "metadata": {},
            "outputs": [
                {
                    "name": "stderr",
                    "output_type": "stream",
                    "text": [
                        "/usr/lib/python3/dist-packages/sklearn/base.py:420: UserWarning: X does not have valid feature names, but KNeighborsClassifier was fitted with feature names\n",
                        "  warnings.warn(\n"
                    ]
                },
                {
                    "ename": "ValueError",
                    "evalue": "Expected 2D array, got 1D array instead:\narray=[100.    6.3   8. ].\nReshape your data either using array.reshape(-1, 1) if your data has a single feature or array.reshape(1, -1) if it contains a single sample.",
                    "output_type": "error",
                    "traceback": [
                        "\u001b[0;31m---------------------------------------------------------------------------\u001b[0m",
                        "\u001b[0;31mValueError\u001b[0m                                Traceback (most recent call last)",
                        "\u001b[1;32m/autofs/unitytravail/travail/anagarnier/acid/td04_knn.ipynb Cell 69\u001b[0m line \u001b[0;36m4\n\u001b[1;32m      <a href='vscode-notebook-cell:/autofs/unitytravail/travail/anagarnier/acid/td04_knn.ipynb#Y125sZmlsZQ%3D%3D?line=1'>2</a>\u001b[0m fruit_recherche\n\u001b[1;32m      <a href='vscode-notebook-cell:/autofs/unitytravail/travail/anagarnier/acid/td04_knn.ipynb#Y125sZmlsZQ%3D%3D?line=2'>3</a>\u001b[0m Ystest \u001b[39m=\u001b[39m [\u001b[39m100\u001b[39m, \u001b[39m6.3\u001b[39m, \u001b[39m8\u001b[39m]\n\u001b[0;32m----> <a href='vscode-notebook-cell:/autofs/unitytravail/travail/anagarnier/acid/td04_knn.ipynb#Y125sZmlsZQ%3D%3D?line=3'>4</a>\u001b[0m ypred \u001b[39m=\u001b[39m knn\u001b[39m.\u001b[39;49mpredict(Ystest)\n\u001b[1;32m      <a href='vscode-notebook-cell:/autofs/unitytravail/travail/anagarnier/acid/td04_knn.ipynb#Y125sZmlsZQ%3D%3D?line=4'>5</a>\u001b[0m \u001b[39mprint\u001b[39m(ypred)\n",
                        "File \u001b[0;32m/usr/lib/python3/dist-packages/sklearn/neighbors/_classification.py:234\u001b[0m, in \u001b[0;36mKNeighborsClassifier.predict\u001b[0;34m(self, X)\u001b[0m\n\u001b[1;32m    218\u001b[0m \u001b[39m\u001b[39m\u001b[39m\"\"\"Predict the class labels for the provided data.\u001b[39;00m\n\u001b[1;32m    219\u001b[0m \n\u001b[1;32m    220\u001b[0m \u001b[39mParameters\u001b[39;00m\n\u001b[0;32m   (...)\u001b[0m\n\u001b[1;32m    229\u001b[0m \u001b[39m    Class labels for each data sample.\u001b[39;00m\n\u001b[1;32m    230\u001b[0m \u001b[39m\"\"\"\u001b[39;00m\n\u001b[1;32m    231\u001b[0m \u001b[39mif\u001b[39;00m \u001b[39mself\u001b[39m\u001b[39m.\u001b[39mweights \u001b[39m==\u001b[39m \u001b[39m\"\u001b[39m\u001b[39muniform\u001b[39m\u001b[39m\"\u001b[39m:\n\u001b[1;32m    232\u001b[0m     \u001b[39m# In that case, we do not need the distances to perform\u001b[39;00m\n\u001b[1;32m    233\u001b[0m     \u001b[39m# the weighting so we do not compute them.\u001b[39;00m\n\u001b[0;32m--> 234\u001b[0m     neigh_ind \u001b[39m=\u001b[39m \u001b[39mself\u001b[39;49m\u001b[39m.\u001b[39;49mkneighbors(X, return_distance\u001b[39m=\u001b[39;49m\u001b[39mFalse\u001b[39;49;00m)\n\u001b[1;32m    235\u001b[0m     neigh_dist \u001b[39m=\u001b[39m \u001b[39mNone\u001b[39;00m\n\u001b[1;32m    236\u001b[0m \u001b[39melse\u001b[39;00m:\n",
                        "File \u001b[0;32m/usr/lib/python3/dist-packages/sklearn/neighbors/_base.py:806\u001b[0m, in \u001b[0;36mKNeighborsMixin.kneighbors\u001b[0;34m(self, X, n_neighbors, return_distance)\u001b[0m\n\u001b[1;32m    804\u001b[0m         X \u001b[39m=\u001b[39m _check_precomputed(X)\n\u001b[1;32m    805\u001b[0m     \u001b[39melse\u001b[39;00m:\n\u001b[0;32m--> 806\u001b[0m         X \u001b[39m=\u001b[39m \u001b[39mself\u001b[39;49m\u001b[39m.\u001b[39;49m_validate_data(X, accept_sparse\u001b[39m=\u001b[39;49m\u001b[39m\"\u001b[39;49m\u001b[39mcsr\u001b[39;49m\u001b[39m\"\u001b[39;49m, reset\u001b[39m=\u001b[39;49m\u001b[39mFalse\u001b[39;49;00m, order\u001b[39m=\u001b[39;49m\u001b[39m\"\u001b[39;49m\u001b[39mC\u001b[39;49m\u001b[39m\"\u001b[39;49m)\n\u001b[1;32m    808\u001b[0m n_samples_fit \u001b[39m=\u001b[39m \u001b[39mself\u001b[39m\u001b[39m.\u001b[39mn_samples_fit_\n\u001b[1;32m    809\u001b[0m \u001b[39mif\u001b[39;00m n_neighbors \u001b[39m>\u001b[39m n_samples_fit:\n",
                        "File \u001b[0;32m/usr/lib/python3/dist-packages/sklearn/base.py:546\u001b[0m, in \u001b[0;36mBaseEstimator._validate_data\u001b[0;34m(self, X, y, reset, validate_separately, **check_params)\u001b[0m\n\u001b[1;32m    544\u001b[0m     \u001b[39mraise\u001b[39;00m \u001b[39mValueError\u001b[39;00m(\u001b[39m\"\u001b[39m\u001b[39mValidation should be done on X, y or both.\u001b[39m\u001b[39m\"\u001b[39m)\n\u001b[1;32m    545\u001b[0m \u001b[39melif\u001b[39;00m \u001b[39mnot\u001b[39;00m no_val_X \u001b[39mand\u001b[39;00m no_val_y:\n\u001b[0;32m--> 546\u001b[0m     X \u001b[39m=\u001b[39m check_array(X, input_name\u001b[39m=\u001b[39;49m\u001b[39m\"\u001b[39;49m\u001b[39mX\u001b[39;49m\u001b[39m\"\u001b[39;49m, \u001b[39m*\u001b[39;49m\u001b[39m*\u001b[39;49mcheck_params)\n\u001b[1;32m    547\u001b[0m     out \u001b[39m=\u001b[39m X\n\u001b[1;32m    548\u001b[0m \u001b[39melif\u001b[39;00m no_val_X \u001b[39mand\u001b[39;00m \u001b[39mnot\u001b[39;00m no_val_y:\n",
                        "File \u001b[0;32m/usr/lib/python3/dist-packages/sklearn/utils/validation.py:902\u001b[0m, in \u001b[0;36mcheck_array\u001b[0;34m(array, accept_sparse, accept_large_sparse, dtype, order, copy, force_all_finite, ensure_2d, allow_nd, ensure_min_samples, ensure_min_features, estimator, input_name)\u001b[0m\n\u001b[1;32m    900\u001b[0m     \u001b[39m# If input is 1D raise error\u001b[39;00m\n\u001b[1;32m    901\u001b[0m     \u001b[39mif\u001b[39;00m array\u001b[39m.\u001b[39mndim \u001b[39m==\u001b[39m \u001b[39m1\u001b[39m:\n\u001b[0;32m--> 902\u001b[0m         \u001b[39mraise\u001b[39;00m \u001b[39mValueError\u001b[39;00m(\n\u001b[1;32m    903\u001b[0m             \u001b[39m\"\u001b[39m\u001b[39mExpected 2D array, got 1D array instead:\u001b[39m\u001b[39m\\n\u001b[39;00m\u001b[39marray=\u001b[39m\u001b[39m{}\u001b[39;00m\u001b[39m.\u001b[39m\u001b[39m\\n\u001b[39;00m\u001b[39m\"\u001b[39m\n\u001b[1;32m    904\u001b[0m             \u001b[39m\"\u001b[39m\u001b[39mReshape your data either using array.reshape(-1, 1) if \u001b[39m\u001b[39m\"\u001b[39m\n\u001b[1;32m    905\u001b[0m             \u001b[39m\"\u001b[39m\u001b[39myour data has a single feature or array.reshape(1, -1) \u001b[39m\u001b[39m\"\u001b[39m\n\u001b[1;32m    906\u001b[0m             \u001b[39m\"\u001b[39m\u001b[39mif it contains a single sample.\u001b[39m\u001b[39m\"\u001b[39m\u001b[39m.\u001b[39mformat(array)\n\u001b[1;32m    907\u001b[0m         )\n\u001b[1;32m    909\u001b[0m \u001b[39mif\u001b[39;00m dtype_numeric \u001b[39mand\u001b[39;00m array\u001b[39m.\u001b[39mdtype\u001b[39m.\u001b[39mkind \u001b[39min\u001b[39;00m \u001b[39m\"\u001b[39m\u001b[39mUSV\u001b[39m\u001b[39m\"\u001b[39m:\n\u001b[1;32m    910\u001b[0m     \u001b[39mraise\u001b[39;00m \u001b[39mValueError\u001b[39;00m(\n\u001b[1;32m    911\u001b[0m         \u001b[39m\"\u001b[39m\u001b[39mdtype=\u001b[39m\u001b[39m'\u001b[39m\u001b[39mnumeric\u001b[39m\u001b[39m'\u001b[39m\u001b[39m is not compatible with arrays of bytes/strings.\u001b[39m\u001b[39m\"\u001b[39m\n\u001b[1;32m    912\u001b[0m         \u001b[39m\"\u001b[39m\u001b[39mConvert your data to numeric values explicitly instead.\u001b[39m\u001b[39m\"\u001b[39m\n\u001b[1;32m    913\u001b[0m     )\n",
                        "\u001b[0;31mValueError\u001b[0m: Expected 2D array, got 1D array instead:\narray=[100.    6.3   8. ].\nReshape your data either using array.reshape(-1, 1) if your data has a single feature or array.reshape(1, -1) if it contains a single sample."
                    ]
                }
            ],
            "source": [
                "fruit_recherche = df[(df['mass'] == 100) & (df['width'] == 6.3) & (df['height'] == 8)]\n",
                "fruit_recherche\n",
                "Ystest = [100, 6.3, 8]\n",
                "ypred = knn.predict(Ystest)\n",
                "print(ypred)"
            ]
        },
        {
            "cell_type": "markdown",
            "metadata": {},
            "source": [
                "8. Trouver une \"bonne\" valeur pour k."
            ]
        },
        {
            "cell_type": "code",
            "execution_count": null,
            "metadata": {},
            "outputs": [],
            "source": []
        },
        {
            "cell_type": "code",
            "execution_count": null,
            "metadata": {},
            "outputs": [],
            "source": []
        },
        {
            "cell_type": "code",
            "execution_count": null,
            "metadata": {},
            "outputs": [],
            "source": []
        },
        {
            "cell_type": "code",
            "execution_count": null,
            "metadata": {},
            "outputs": [],
            "source": []
        },
        {
            "cell_type": "code",
            "execution_count": null,
            "metadata": {},
            "outputs": [],
            "source": []
        }
    ],
    "metadata": {
        "kernelspec": {
            "display_name": "Python 3 (ipykernel)",
            "language": "python",
            "name": "python3"
        },
        "language_info": {
            "codemirror_mode": {
                "name": "ipython",
                "version": 3
            },
            "file_extension": ".py",
            "mimetype": "text/x-python",
            "name": "python",
            "nbconvert_exporter": "python",
            "pygments_lexer": "ipython3",
            "version": "3.11.2"
        },
        "vscode": {
            "interpreter": {
                "hash": "f7a33a7ac36940c3c09ff8c429e181801b22494f43ccd4b6b774aaa82a723805"
            }
        }
    },
    "nbformat": 4,
    "nbformat_minor": 2
}
